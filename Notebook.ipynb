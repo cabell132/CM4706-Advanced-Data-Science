{
 "cells": [
  {
   "cell_type": "markdown",
   "metadata": {},
   "source": [
    "\n",
    "\n",
    "# Import Libraries"
   ]
  },
  {
   "cell_type": "code",
   "execution_count": null,
   "metadata": {},
   "outputs": [],
   "source": [
    "!git clone https://github.com/cabell132/CM4706-Advanced-Data-Science.git"
   ]
  },
  {
   "cell_type": "code",
   "execution_count": 1,
   "metadata": {},
   "outputs": [],
   "source": [
    "import pandas as pd\n",
    "from nltk.tokenize import word_tokenize\n",
    "from nltk import ngrams\n",
    "from gensim.models import Word2Vec\n",
    "from sklearn.cluster import KMeans\n",
    "from sklearn.neighbors import NearestNeighbors\n",
    "import numpy as np\n",
    "from tqdm import tqdm\n",
    "from collections import Counter\n",
    "import unidecode\n",
    "import re\n",
    "import json\n",
    "import spacy\n",
    "from rapidfuzz import fuzz\n",
    "from spacy.tokens import DocBin\n",
    "from spacy.util import filter_spans\n",
    "import random\n",
    "import json\n",
    "\n",
    "# download spaCy en_core_web_lg model\n",
    "!python -m spacy download en_core_web_lg\n"
   ]
  },
  {
   "cell_type": "markdown",
   "metadata": {},
   "source": [
    "The purpose of this code is to match together song releases by the song title and artists. \n",
    "\n",
    "For the first pipeline, we shall try and use Kmeans clustering to see whether we can group the tracks into similar releases.\n",
    "\n",
    "For the second pipeline, we shall try and use a similar algorithm to Kmeans which is K nearest neighbours to group the releases together.\n",
    "\n",
    "In the third pipeline, we shall use name entity recognition to identify key features in the text of the song name and then use fuzzy matching to identify groups of releases."
   ]
  },
  {
   "cell_type": "markdown",
   "metadata": {},
   "source": [
    "# Load Data Sets\n"
   ]
  },
  {
   "cell_type": "code",
   "execution_count": 2,
   "metadata": {},
   "outputs": [
    {
     "name": "stdout",
     "output_type": "stream",
     "text": [
      "Number of track names in the full_names dataframe: 1,674\n"
     ]
    }
   ],
   "source": [
    "data = pd.read_csv('track_name_list.csv')\n",
    "\n",
    "# set the index to be the unique id\n",
    "full_names = data.set_index('id')\n",
    "\n",
    "# count the number of track names in the full_names dataframe with comma formatting\n",
    "\n",
    "print(f'Number of track names in the full_names dataframe: {len(data):,}')"
   ]
  },
  {
   "cell_type": "code",
   "execution_count": 3,
   "metadata": {},
   "outputs": [],
   "source": [
    "full_names['full_name'] = full_names['name'] + ' ' + full_names['artist']"
   ]
  },
  {
   "cell_type": "code",
   "execution_count": 4,
   "metadata": {},
   "outputs": [
    {
     "data": {
      "text/html": [
       "<div>\n",
       "<style scoped>\n",
       "    .dataframe tbody tr th:only-of-type {\n",
       "        vertical-align: middle;\n",
       "    }\n",
       "\n",
       "    .dataframe tbody tr th {\n",
       "        vertical-align: top;\n",
       "    }\n",
       "\n",
       "    .dataframe thead th {\n",
       "        text-align: right;\n",
       "    }\n",
       "</style>\n",
       "<table border=\"1\" class=\"dataframe\">\n",
       "  <thead>\n",
       "    <tr style=\"text-align: right;\">\n",
       "      <th></th>\n",
       "      <th>name</th>\n",
       "      <th>artist</th>\n",
       "      <th>platform</th>\n",
       "      <th>full_name</th>\n",
       "      <th>full_name_tokens</th>\n",
       "    </tr>\n",
       "    <tr>\n",
       "      <th>id</th>\n",
       "      <th></th>\n",
       "      <th></th>\n",
       "      <th></th>\n",
       "      <th></th>\n",
       "      <th></th>\n",
       "    </tr>\n",
       "  </thead>\n",
       "  <tbody>\n",
       "    <tr>\n",
       "      <th>70001</th>\n",
       "      <td>Dreams About You - Dreamy Remix</td>\n",
       "      <td>Christian Drost, Dreamy</td>\n",
       "      <td>Track</td>\n",
       "      <td>dreams about you  dreamy remix christian drost...</td>\n",
       "      <td>[dreams, about, you, dreamy, remix, christian,...</td>\n",
       "    </tr>\n",
       "    <tr>\n",
       "      <th>70009</th>\n",
       "      <td>Lost In Your Eyes</td>\n",
       "      <td>Love N Frequency</td>\n",
       "      <td>Track</td>\n",
       "      <td>lost in your eyes love n frequency</td>\n",
       "      <td>[lost, in, your, eyes, love, n, frequency]</td>\n",
       "    </tr>\n",
       "    <tr>\n",
       "      <th>70010</th>\n",
       "      <td>Lost In Your Eyes - Manuel Rocca Remix</td>\n",
       "      <td>Love N Frequency, Manuel Rocca</td>\n",
       "      <td>Track</td>\n",
       "      <td>lost in your eyes  manuel rocca remix love n f...</td>\n",
       "      <td>[lost, in, your, eyes, manuel, rocca, remix, l...</td>\n",
       "    </tr>\n",
       "    <tr>\n",
       "      <th>70035</th>\n",
       "      <td>Perception</td>\n",
       "      <td>Alae Khaldi</td>\n",
       "      <td>Track</td>\n",
       "      <td>perception alae khaldi</td>\n",
       "      <td>[perception, alae, khaldi]</td>\n",
       "    </tr>\n",
       "    <tr>\n",
       "      <th>70040</th>\n",
       "      <td>Ethereal - Kago Pengchi Remix</td>\n",
       "      <td>Kago Pengchi, Odonbat</td>\n",
       "      <td>Track</td>\n",
       "      <td>ethereal  kago pengchi remix kago pengchi odonbat</td>\n",
       "      <td>[ethereal, kago, pengchi, remix, kago, pengchi...</td>\n",
       "    </tr>\n",
       "    <tr>\n",
       "      <th>70045</th>\n",
       "      <td>Sunrise - Lence &amp; Pluton Remix</td>\n",
       "      <td>Denis Kenzo, Lence &amp; Pluton, PLUTON</td>\n",
       "      <td>Track</td>\n",
       "      <td>sunrise  lence  pluton remix denis kenzo lence...</td>\n",
       "      <td>[sunrise, lence, pluton, remix, denis, kenzo, ...</td>\n",
       "    </tr>\n",
       "    <tr>\n",
       "      <th>70046</th>\n",
       "      <td>Sunrise</td>\n",
       "      <td>Denis Kenzo</td>\n",
       "      <td>Track</td>\n",
       "      <td>sunrise denis kenzo</td>\n",
       "      <td>[sunrise, denis, kenzo]</td>\n",
       "    </tr>\n",
       "    <tr>\n",
       "      <th>70078</th>\n",
       "      <td>Starclad</td>\n",
       "      <td>Christian Zechner, Lira Yin</td>\n",
       "      <td>Track</td>\n",
       "      <td>starclad christian zechner lira yin</td>\n",
       "      <td>[starclad, christian, zechner, lira, yin]</td>\n",
       "    </tr>\n",
       "    <tr>\n",
       "      <th>70099</th>\n",
       "      <td>Drifting Through Darkness - Photographer Remix</td>\n",
       "      <td>Chris Turner, Luke Terry, Photographer</td>\n",
       "      <td>Track</td>\n",
       "      <td>drifting through darkness  photographer remix ...</td>\n",
       "      <td>[drifting, through, darkness, photographer, re...</td>\n",
       "    </tr>\n",
       "    <tr>\n",
       "      <th>70114</th>\n",
       "      <td>Peak Experience</td>\n",
       "      <td>Jo Micali</td>\n",
       "      <td>Track</td>\n",
       "      <td>peak experience jo micali</td>\n",
       "      <td>[peak, experience, jo, micali]</td>\n",
       "    </tr>\n",
       "  </tbody>\n",
       "</table>\n",
       "</div>"
      ],
      "text/plain": [
       "                                                 name  \\\n",
       "id                                                      \n",
       "70001                 Dreams About You - Dreamy Remix   \n",
       "70009                               Lost In Your Eyes   \n",
       "70010          Lost In Your Eyes - Manuel Rocca Remix   \n",
       "70035                                      Perception   \n",
       "70040                   Ethereal - Kago Pengchi Remix   \n",
       "70045                  Sunrise - Lence & Pluton Remix   \n",
       "70046                                         Sunrise   \n",
       "70078                                        Starclad   \n",
       "70099  Drifting Through Darkness - Photographer Remix   \n",
       "70114                                 Peak Experience   \n",
       "\n",
       "                                       artist platform  \\\n",
       "id                                                       \n",
       "70001                 Christian Drost, Dreamy    Track   \n",
       "70009                        Love N Frequency    Track   \n",
       "70010          Love N Frequency, Manuel Rocca    Track   \n",
       "70035                             Alae Khaldi    Track   \n",
       "70040                   Kago Pengchi, Odonbat    Track   \n",
       "70045     Denis Kenzo, Lence & Pluton, PLUTON    Track   \n",
       "70046                             Denis Kenzo    Track   \n",
       "70078             Christian Zechner, Lira Yin    Track   \n",
       "70099  Chris Turner, Luke Terry, Photographer    Track   \n",
       "70114                               Jo Micali    Track   \n",
       "\n",
       "                                               full_name  \\\n",
       "id                                                         \n",
       "70001  dreams about you  dreamy remix christian drost...   \n",
       "70009                 lost in your eyes love n frequency   \n",
       "70010  lost in your eyes  manuel rocca remix love n f...   \n",
       "70035                             perception alae khaldi   \n",
       "70040  ethereal  kago pengchi remix kago pengchi odonbat   \n",
       "70045  sunrise  lence  pluton remix denis kenzo lence...   \n",
       "70046                                sunrise denis kenzo   \n",
       "70078                starclad christian zechner lira yin   \n",
       "70099  drifting through darkness  photographer remix ...   \n",
       "70114                          peak experience jo micali   \n",
       "\n",
       "                                        full_name_tokens  \n",
       "id                                                        \n",
       "70001  [dreams, about, you, dreamy, remix, christian,...  \n",
       "70009         [lost, in, your, eyes, love, n, frequency]  \n",
       "70010  [lost, in, your, eyes, manuel, rocca, remix, l...  \n",
       "70035                         [perception, alae, khaldi]  \n",
       "70040  [ethereal, kago, pengchi, remix, kago, pengchi...  \n",
       "70045  [sunrise, lence, pluton, remix, denis, kenzo, ...  \n",
       "70046                            [sunrise, denis, kenzo]  \n",
       "70078          [starclad, christian, zechner, lira, yin]  \n",
       "70099  [drifting, through, darkness, photographer, re...  \n",
       "70114                     [peak, experience, jo, micali]  "
      ]
     },
     "execution_count": 4,
     "metadata": {},
     "output_type": "execute_result"
    }
   ],
   "source": [
    "# We will now normalise the full_name column by removing all non-alphanumeric characters, converting all characters to lowercase and translate text to 7-bit ASCII\n",
    "\n",
    "# Normalise the full_name column by removing all non-alphanumeric characters, converting all characters to lowercase and translate text to 7-bit ASCII\n",
    "full_names['full_name'] = full_names['full_name'].apply(lambda x: unidecode.unidecode(re.sub(r'[^a-zA-Z0-9\\s]', '', x.lower())))\n",
    "\n",
    "# create a new column called 'full_name_tokens' which contains the full_name column tokenised\n",
    "full_names['full_name_tokens'] = full_names['full_name'].apply(lambda x: word_tokenize(x))\n",
    "\n",
    "full_names.head(10)"
   ]
  },
  {
   "cell_type": "code",
   "execution_count": 5,
   "metadata": {},
   "outputs": [],
   "source": [
    "# train a Word2Vec model on the full_name_tokens column\n",
    "model = Word2Vec(full_names['full_name_tokens'], min_count=1, vector_size=100, window=5, workers=4, seed=42)"
   ]
  },
  {
   "cell_type": "code",
   "execution_count": 6,
   "metadata": {},
   "outputs": [
    {
     "data": {
      "text/plain": [
       "array([ 8.32445640e-03, -6.02931017e-04, -8.53211619e-03,  8.02706461e-03,\n",
       "       -1.13724926e-02,  1.24447579e-02,  7.72069674e-03,  7.69176334e-03,\n",
       "       -6.76097174e-04, -2.58977059e-03, -2.24564672e-02,  9.74831171e-03,\n",
       "        4.55621351e-03,  2.09161341e-02, -1.08838663e-03, -1.06598055e-02,\n",
       "        4.66754660e-03, -1.78964194e-02, -8.92541837e-03,  4.71695745e-03,\n",
       "        2.55849387e-04,  7.04311207e-03, -2.19302601e-03,  1.45929996e-02,\n",
       "        6.15287013e-03, -1.78040657e-03, -9.64092743e-03,  8.86085629e-03,\n",
       "       -4.57303645e-03, -1.87658751e-03,  4.07472160e-03, -9.14063305e-04,\n",
       "       -5.90784999e-04,  4.78117913e-03,  9.33441392e-04,  3.72556678e-05,\n",
       "        1.04957782e-02, -2.41209846e-02, -1.57294655e-03,  8.11378472e-03,\n",
       "       -1.86485518e-03,  3.29029444e-03,  1.72652770e-02, -6.97229384e-03,\n",
       "        1.87671313e-03,  2.11843988e-03,  8.35631043e-03,  1.08153410e-02,\n",
       "        2.46760678e-02, -1.40059153e-02, -8.36214609e-03, -2.62745302e-02,\n",
       "       -1.21485011e-03, -2.92595522e-03,  4.91225626e-03,  2.64298578e-04,\n",
       "       -5.89224789e-03,  2.27964483e-05,  2.94999219e-04,  1.26371896e-02,\n",
       "       -1.86896475e-04, -3.33256903e-03, -1.82227064e-02,  1.50105255e-02,\n",
       "        1.80372056e-02,  1.92957581e-03,  5.79431700e-03, -4.85351169e-03,\n",
       "       -1.01756062e-02,  9.44256876e-03, -7.98822287e-03, -1.39617187e-03,\n",
       "       -2.63108872e-03, -4.77643171e-03,  6.91787992e-03, -4.39048046e-03,\n",
       "        4.15952131e-03, -1.74131733e-03, -4.74891998e-03, -8.00156780e-03,\n",
       "        9.71066393e-03, -1.29979858e-02, -1.32009657e-02,  3.11198481e-03,\n",
       "       -1.24145104e-02,  4.11986187e-03, -7.23886816e-03, -1.07808337e-02,\n",
       "       -5.85296704e-03,  2.43109930e-03, -1.76793672e-02,  2.06218343e-02,\n",
       "       -8.04184354e-04, -1.99569110e-02,  1.27535574e-02, -1.19531387e-03,\n",
       "        1.16828328e-03,  6.86332723e-03, -1.03400331e-02, -4.32955334e-03],\n",
       "      dtype=float32)"
      ]
     },
     "execution_count": 6,
     "metadata": {},
     "output_type": "execute_result"
    }
   ],
   "source": [
    "# create a function that converts a track name to a vector\n",
    "def vectoriser(tokenized_track_name, model):\n",
    "    zero_vector = np.zeros(model.vector_size)\n",
    "    vectors = []\n",
    "    for token in tokenized_track_name:\n",
    "        if token in model.wv:\n",
    "            vectors.append(model.wv[token])\n",
    "    \n",
    "    if vectors:\n",
    "        vectors = np.array(vectors)\n",
    "        avg_vec = np.mean(vectors, axis=0)\n",
    "        return avg_vec\n",
    "    else:\n",
    "        return zero_vector\n",
    "\n",
    "# test the vectoriser function\n",
    "vectoriser(full_names['full_name_tokens'].iloc[0], model)\n"
   ]
  },
  {
   "cell_type": "code",
   "execution_count": 7,
   "metadata": {},
   "outputs": [],
   "source": [
    "# create a new column called 'full_name_vector' which contains the vector representation of the full_name column\n",
    "full_names['full_name_vector'] = full_names['full_name_tokens'].apply(lambda x: vectoriser(x, model))"
   ]
  },
  {
   "cell_type": "code",
   "execution_count": 14,
   "metadata": {},
   "outputs": [
    {
     "data": {
      "text/html": [
       "<div>\n",
       "<style scoped>\n",
       "    .dataframe tbody tr th:only-of-type {\n",
       "        vertical-align: middle;\n",
       "    }\n",
       "\n",
       "    .dataframe tbody tr th {\n",
       "        vertical-align: top;\n",
       "    }\n",
       "\n",
       "    .dataframe thead th {\n",
       "        text-align: right;\n",
       "    }\n",
       "</style>\n",
       "<table border=\"1\" class=\"dataframe\">\n",
       "  <thead>\n",
       "    <tr style=\"text-align: right;\">\n",
       "      <th></th>\n",
       "      <th>name</th>\n",
       "      <th>artist</th>\n",
       "      <th>platform</th>\n",
       "      <th>full_name</th>\n",
       "      <th>full_name_tokens</th>\n",
       "      <th>full_name_vector</th>\n",
       "      <th>cluster</th>\n",
       "      <th>cluster_size</th>\n",
       "    </tr>\n",
       "    <tr>\n",
       "      <th>id</th>\n",
       "      <th></th>\n",
       "      <th></th>\n",
       "      <th></th>\n",
       "      <th></th>\n",
       "      <th></th>\n",
       "      <th></th>\n",
       "      <th></th>\n",
       "      <th></th>\n",
       "    </tr>\n",
       "  </thead>\n",
       "  <tbody>\n",
       "    <tr>\n",
       "      <th>70001</th>\n",
       "      <td>Dreams About You - Dreamy Remix</td>\n",
       "      <td>Christian Drost, Dreamy</td>\n",
       "      <td>Track</td>\n",
       "      <td>dreams about you  dreamy remix christian drost...</td>\n",
       "      <td>[dreams, about, you, dreamy, remix, christian,...</td>\n",
       "      <td>[0.008324456, -0.000602931, -0.008532116, 0.00...</td>\n",
       "      <td>558</td>\n",
       "      <td>2</td>\n",
       "    </tr>\n",
       "    <tr>\n",
       "      <th>70009</th>\n",
       "      <td>Lost In Your Eyes</td>\n",
       "      <td>Love N Frequency</td>\n",
       "      <td>Track</td>\n",
       "      <td>lost in your eyes love n frequency</td>\n",
       "      <td>[lost, in, your, eyes, love, n, frequency]</td>\n",
       "      <td>[0.007382974, -0.0016506583, -0.0051318393, 0....</td>\n",
       "      <td>201</td>\n",
       "      <td>5</td>\n",
       "    </tr>\n",
       "    <tr>\n",
       "      <th>70010</th>\n",
       "      <td>Lost In Your Eyes - Manuel Rocca Remix</td>\n",
       "      <td>Love N Frequency, Manuel Rocca</td>\n",
       "      <td>Track</td>\n",
       "      <td>lost in your eyes  manuel rocca remix love n f...</td>\n",
       "      <td>[lost, in, your, eyes, manuel, rocca, remix, l...</td>\n",
       "      <td>[0.0079321675, -0.0024371252, -0.0076448093, 0...</td>\n",
       "      <td>625</td>\n",
       "      <td>2</td>\n",
       "    </tr>\n",
       "    <tr>\n",
       "      <th>70035</th>\n",
       "      <td>Perception</td>\n",
       "      <td>Alae Khaldi</td>\n",
       "      <td>Track</td>\n",
       "      <td>perception alae khaldi</td>\n",
       "      <td>[perception, alae, khaldi]</td>\n",
       "      <td>[0.0011704974, 0.00026999367, 0.002106758, 0.0...</td>\n",
       "      <td>467</td>\n",
       "      <td>1</td>\n",
       "    </tr>\n",
       "    <tr>\n",
       "      <th>70040</th>\n",
       "      <td>Ethereal - Kago Pengchi Remix</td>\n",
       "      <td>Kago Pengchi, Odonbat</td>\n",
       "      <td>Track</td>\n",
       "      <td>ethereal  kago pengchi remix kago pengchi odonbat</td>\n",
       "      <td>[ethereal, kago, pengchi, remix, kago, pengchi...</td>\n",
       "      <td>[0.0075254096, -0.0026752353, -0.0051851417, 0...</td>\n",
       "      <td>507</td>\n",
       "      <td>2</td>\n",
       "    </tr>\n",
       "    <tr>\n",
       "      <th>70045</th>\n",
       "      <td>Sunrise - Lence &amp; Pluton Remix</td>\n",
       "      <td>Denis Kenzo, Lence &amp; Pluton, PLUTON</td>\n",
       "      <td>Track</td>\n",
       "      <td>sunrise  lence  pluton remix denis kenzo lence...</td>\n",
       "      <td>[sunrise, lence, pluton, remix, denis, kenzo, ...</td>\n",
       "      <td>[0.0059694434, -0.0021464734, -0.0027971028, 0...</td>\n",
       "      <td>684</td>\n",
       "      <td>2</td>\n",
       "    </tr>\n",
       "    <tr>\n",
       "      <th>70046</th>\n",
       "      <td>Sunrise</td>\n",
       "      <td>Denis Kenzo</td>\n",
       "      <td>Track</td>\n",
       "      <td>sunrise denis kenzo</td>\n",
       "      <td>[sunrise, denis, kenzo]</td>\n",
       "      <td>[-0.0012884577, -0.00022606661, -0.007079489, ...</td>\n",
       "      <td>415</td>\n",
       "      <td>1</td>\n",
       "    </tr>\n",
       "    <tr>\n",
       "      <th>70078</th>\n",
       "      <td>Starclad</td>\n",
       "      <td>Christian Zechner, Lira Yin</td>\n",
       "      <td>Track</td>\n",
       "      <td>starclad christian zechner lira yin</td>\n",
       "      <td>[starclad, christian, zechner, lira, yin]</td>\n",
       "      <td>[0.0013698487, -0.0032376896, -0.002174544, 0....</td>\n",
       "      <td>653</td>\n",
       "      <td>1</td>\n",
       "    </tr>\n",
       "    <tr>\n",
       "      <th>70099</th>\n",
       "      <td>Drifting Through Darkness - Photographer Remix</td>\n",
       "      <td>Chris Turner, Luke Terry, Photographer</td>\n",
       "      <td>Track</td>\n",
       "      <td>drifting through darkness  photographer remix ...</td>\n",
       "      <td>[drifting, through, darkness, photographer, re...</td>\n",
       "      <td>[0.012485746, -0.0048313877, -0.008024739, 0.0...</td>\n",
       "      <td>162</td>\n",
       "      <td>4</td>\n",
       "    </tr>\n",
       "    <tr>\n",
       "      <th>70114</th>\n",
       "      <td>Peak Experience</td>\n",
       "      <td>Jo Micali</td>\n",
       "      <td>Track</td>\n",
       "      <td>peak experience jo micali</td>\n",
       "      <td>[peak, experience, jo, micali]</td>\n",
       "      <td>[-0.0011994136, 0.0036464352, -0.00013312529, ...</td>\n",
       "      <td>217</td>\n",
       "      <td>1</td>\n",
       "    </tr>\n",
       "  </tbody>\n",
       "</table>\n",
       "</div>"
      ],
      "text/plain": [
       "                                                 name  \\\n",
       "id                                                      \n",
       "70001                 Dreams About You - Dreamy Remix   \n",
       "70009                               Lost In Your Eyes   \n",
       "70010          Lost In Your Eyes - Manuel Rocca Remix   \n",
       "70035                                      Perception   \n",
       "70040                   Ethereal - Kago Pengchi Remix   \n",
       "70045                  Sunrise - Lence & Pluton Remix   \n",
       "70046                                         Sunrise   \n",
       "70078                                        Starclad   \n",
       "70099  Drifting Through Darkness - Photographer Remix   \n",
       "70114                                 Peak Experience   \n",
       "\n",
       "                                       artist platform  \\\n",
       "id                                                       \n",
       "70001                 Christian Drost, Dreamy    Track   \n",
       "70009                        Love N Frequency    Track   \n",
       "70010          Love N Frequency, Manuel Rocca    Track   \n",
       "70035                             Alae Khaldi    Track   \n",
       "70040                   Kago Pengchi, Odonbat    Track   \n",
       "70045     Denis Kenzo, Lence & Pluton, PLUTON    Track   \n",
       "70046                             Denis Kenzo    Track   \n",
       "70078             Christian Zechner, Lira Yin    Track   \n",
       "70099  Chris Turner, Luke Terry, Photographer    Track   \n",
       "70114                               Jo Micali    Track   \n",
       "\n",
       "                                               full_name  \\\n",
       "id                                                         \n",
       "70001  dreams about you  dreamy remix christian drost...   \n",
       "70009                 lost in your eyes love n frequency   \n",
       "70010  lost in your eyes  manuel rocca remix love n f...   \n",
       "70035                             perception alae khaldi   \n",
       "70040  ethereal  kago pengchi remix kago pengchi odonbat   \n",
       "70045  sunrise  lence  pluton remix denis kenzo lence...   \n",
       "70046                                sunrise denis kenzo   \n",
       "70078                starclad christian zechner lira yin   \n",
       "70099  drifting through darkness  photographer remix ...   \n",
       "70114                          peak experience jo micali   \n",
       "\n",
       "                                        full_name_tokens  \\\n",
       "id                                                         \n",
       "70001  [dreams, about, you, dreamy, remix, christian,...   \n",
       "70009         [lost, in, your, eyes, love, n, frequency]   \n",
       "70010  [lost, in, your, eyes, manuel, rocca, remix, l...   \n",
       "70035                         [perception, alae, khaldi]   \n",
       "70040  [ethereal, kago, pengchi, remix, kago, pengchi...   \n",
       "70045  [sunrise, lence, pluton, remix, denis, kenzo, ...   \n",
       "70046                            [sunrise, denis, kenzo]   \n",
       "70078          [starclad, christian, zechner, lira, yin]   \n",
       "70099  [drifting, through, darkness, photographer, re...   \n",
       "70114                     [peak, experience, jo, micali]   \n",
       "\n",
       "                                        full_name_vector  cluster  \\\n",
       "id                                                                  \n",
       "70001  [0.008324456, -0.000602931, -0.008532116, 0.00...      558   \n",
       "70009  [0.007382974, -0.0016506583, -0.0051318393, 0....      201   \n",
       "70010  [0.0079321675, -0.0024371252, -0.0076448093, 0...      625   \n",
       "70035  [0.0011704974, 0.00026999367, 0.002106758, 0.0...      467   \n",
       "70040  [0.0075254096, -0.0026752353, -0.0051851417, 0...      507   \n",
       "70045  [0.0059694434, -0.0021464734, -0.0027971028, 0...      684   \n",
       "70046  [-0.0012884577, -0.00022606661, -0.007079489, ...      415   \n",
       "70078  [0.0013698487, -0.0032376896, -0.002174544, 0....      653   \n",
       "70099  [0.012485746, -0.0048313877, -0.008024739, 0.0...      162   \n",
       "70114  [-0.0011994136, 0.0036464352, -0.00013312529, ...      217   \n",
       "\n",
       "       cluster_size  \n",
       "id                   \n",
       "70001             2  \n",
       "70009             5  \n",
       "70010             2  \n",
       "70035             1  \n",
       "70040             2  \n",
       "70045             2  \n",
       "70046             1  \n",
       "70078             1  \n",
       "70099             4  \n",
       "70114             1  "
      ]
     },
     "execution_count": 14,
     "metadata": {},
     "output_type": "execute_result"
    }
   ],
   "source": [
    "# fit a KMeans model to the full_name_vector column\n",
    "kmeans = KMeans(n_clusters=699, random_state=42).fit(full_names['full_name_vector'].tolist())\n",
    "\n",
    "# create a new column called 'cluster' which contains the cluster number for each track name\n",
    "full_names['cluster'] = kmeans.labels_\n",
    "\n",
    "# create a new column called 'cluster_size' which contains the number of track names in each cluster\n",
    "full_names['cluster_size'] = full_names.groupby('cluster')['cluster'].transform('count')\n",
    "\n",
    "full_names.head(10)"
   ]
  },
  {
   "cell_type": "code",
   "execution_count": 61,
   "metadata": {},
   "outputs": [
    {
     "name": "stderr",
     "output_type": "stream",
     "text": [
      "100%|██████████| 1674/1674 [00:01<00:00, 1291.48it/s]"
     ]
    },
    {
     "name": "stdout",
     "output_type": "stream",
     "text": [
      "Accuracy of the model: 71.54%\n",
      "Precision of the model: 71.54%\n",
      "Recall of the model: 80.60%\n",
      "F1 score of the model: 75.80%\n"
     ]
    },
    {
     "name": "stderr",
     "output_type": "stream",
     "text": [
      "\n"
     ]
    }
   ],
   "source": [
    "test_data = pd.read_csv('test_data.csv')\n",
    "for row in tqdm(test_data.index):\n",
    "    target = test_data.loc[row,'target_id']\n",
    "    cluster = full_names.loc[target,'cluster']\n",
    "    cluster_df = full_names[full_names['cluster'] == cluster]\n",
    "    cluster_df = cluster_df[cluster_df.index != target]\n",
    "    prediction = cluster_df.index\n",
    "    answer = json.loads(test_data.loc[row,'match_id'])\n",
    "\n",
    "    # true positive is the number of track names in the prediction that are also in the answer\n",
    "    test_data.loc[row,'true_positive'] = len([i for i in prediction if i in answer])\n",
    "\n",
    "    # false positive is the number of track names in the prediction that are not in the answer\n",
    "    test_data.loc[row,'false_positive'] = len([i for i in prediction if i not in answer])\n",
    "\n",
    "    test_data.loc[row,'total_predictions'] = len(prediction)\n",
    "    # false negative is the number of tracks in the answer that are not in the prediction\n",
    "    test_data.loc[row,'false_negative'] = len([i for i in answer if i not in prediction])\n",
    "    \n",
    "    \n",
    "# calculate the accuracy of the model\n",
    "acc = test_data['true_positive'].sum() / (test_data['total_predictions'].sum())\n",
    "\n",
    "print(f'Accuracy of the model: {acc:.2%}')\n",
    "\n",
    "# calculate the precision of the model\n",
    "precision = test_data['true_positive'].sum() / (test_data['true_positive'].sum() + test_data['false_positive'].sum())\n",
    "\n",
    "print(f'Precision of the model: {precision:.2%}')\n",
    "\n",
    "# calculate the recall of the model\n",
    "recall = test_data['true_positive'].sum() / (test_data['true_positive'].sum() + test_data['false_negative'].sum())\n",
    "\n",
    "print(f'Recall of the model: {recall:.2%}')\n",
    "\n",
    "# calculate the f1 score of the model\n",
    "f1 = 2 * (precision * recall) / (precision + recall)\n",
    "\n",
    "print(f'F1 score of the model: {f1:.2%}')\n"
   ]
  },
  {
   "cell_type": "code",
   "execution_count": 19,
   "metadata": {},
   "outputs": [
    {
     "data": {
      "text/html": [
       "<style>#sk-container-id-2 {color: black;background-color: white;}#sk-container-id-2 pre{padding: 0;}#sk-container-id-2 div.sk-toggleable {background-color: white;}#sk-container-id-2 label.sk-toggleable__label {cursor: pointer;display: block;width: 100%;margin-bottom: 0;padding: 0.3em;box-sizing: border-box;text-align: center;}#sk-container-id-2 label.sk-toggleable__label-arrow:before {content: \"▸\";float: left;margin-right: 0.25em;color: #696969;}#sk-container-id-2 label.sk-toggleable__label-arrow:hover:before {color: black;}#sk-container-id-2 div.sk-estimator:hover label.sk-toggleable__label-arrow:before {color: black;}#sk-container-id-2 div.sk-toggleable__content {max-height: 0;max-width: 0;overflow: hidden;text-align: left;background-color: #f0f8ff;}#sk-container-id-2 div.sk-toggleable__content pre {margin: 0.2em;color: black;border-radius: 0.25em;background-color: #f0f8ff;}#sk-container-id-2 input.sk-toggleable__control:checked~div.sk-toggleable__content {max-height: 200px;max-width: 100%;overflow: auto;}#sk-container-id-2 input.sk-toggleable__control:checked~label.sk-toggleable__label-arrow:before {content: \"▾\";}#sk-container-id-2 div.sk-estimator input.sk-toggleable__control:checked~label.sk-toggleable__label {background-color: #d4ebff;}#sk-container-id-2 div.sk-label input.sk-toggleable__control:checked~label.sk-toggleable__label {background-color: #d4ebff;}#sk-container-id-2 input.sk-hidden--visually {border: 0;clip: rect(1px 1px 1px 1px);clip: rect(1px, 1px, 1px, 1px);height: 1px;margin: -1px;overflow: hidden;padding: 0;position: absolute;width: 1px;}#sk-container-id-2 div.sk-estimator {font-family: monospace;background-color: #f0f8ff;border: 1px dotted black;border-radius: 0.25em;box-sizing: border-box;margin-bottom: 0.5em;}#sk-container-id-2 div.sk-estimator:hover {background-color: #d4ebff;}#sk-container-id-2 div.sk-parallel-item::after {content: \"\";width: 100%;border-bottom: 1px solid gray;flex-grow: 1;}#sk-container-id-2 div.sk-label:hover label.sk-toggleable__label {background-color: #d4ebff;}#sk-container-id-2 div.sk-serial::before {content: \"\";position: absolute;border-left: 1px solid gray;box-sizing: border-box;top: 0;bottom: 0;left: 50%;z-index: 0;}#sk-container-id-2 div.sk-serial {display: flex;flex-direction: column;align-items: center;background-color: white;padding-right: 0.2em;padding-left: 0.2em;position: relative;}#sk-container-id-2 div.sk-item {position: relative;z-index: 1;}#sk-container-id-2 div.sk-parallel {display: flex;align-items: stretch;justify-content: center;background-color: white;position: relative;}#sk-container-id-2 div.sk-item::before, #sk-container-id-2 div.sk-parallel-item::before {content: \"\";position: absolute;border-left: 1px solid gray;box-sizing: border-box;top: 0;bottom: 0;left: 50%;z-index: -1;}#sk-container-id-2 div.sk-parallel-item {display: flex;flex-direction: column;z-index: 1;position: relative;background-color: white;}#sk-container-id-2 div.sk-parallel-item:first-child::after {align-self: flex-end;width: 50%;}#sk-container-id-2 div.sk-parallel-item:last-child::after {align-self: flex-start;width: 50%;}#sk-container-id-2 div.sk-parallel-item:only-child::after {width: 0;}#sk-container-id-2 div.sk-dashed-wrapped {border: 1px dashed gray;margin: 0 0.4em 0.5em 0.4em;box-sizing: border-box;padding-bottom: 0.4em;background-color: white;}#sk-container-id-2 div.sk-label label {font-family: monospace;font-weight: bold;display: inline-block;line-height: 1.2em;}#sk-container-id-2 div.sk-label-container {text-align: center;}#sk-container-id-2 div.sk-container {/* jupyter's `normalize.less` sets `[hidden] { display: none; }` but bootstrap.min.css set `[hidden] { display: none !important; }` so we also need the `!important` here to be able to override the default hidden behavior on the sphinx rendered scikit-learn.org. See: https://github.com/scikit-learn/scikit-learn/issues/21755 */display: inline-block !important;position: relative;}#sk-container-id-2 div.sk-text-repr-fallback {display: none;}</style><div id=\"sk-container-id-2\" class=\"sk-top-container\"><div class=\"sk-text-repr-fallback\"><pre>NearestNeighbors(metric=&#x27;cosine&#x27;, n_jobs=-1, n_neighbors=100)</pre><b>In a Jupyter environment, please rerun this cell to show the HTML representation or trust the notebook. <br />On GitHub, the HTML representation is unable to render, please try loading this page with nbviewer.org.</b></div><div class=\"sk-container\" hidden><div class=\"sk-item\"><div class=\"sk-estimator sk-toggleable\"><input class=\"sk-toggleable__control sk-hidden--visually\" id=\"sk-estimator-id-2\" type=\"checkbox\" checked><label for=\"sk-estimator-id-2\" class=\"sk-toggleable__label sk-toggleable__label-arrow\">NearestNeighbors</label><div class=\"sk-toggleable__content\"><pre>NearestNeighbors(metric=&#x27;cosine&#x27;, n_jobs=-1, n_neighbors=100)</pre></div></div></div></div></div>"
      ],
      "text/plain": [
       "NearestNeighbors(metric='cosine', n_jobs=-1, n_neighbors=100)"
      ]
     },
     "execution_count": 19,
     "metadata": {},
     "output_type": "execute_result"
    }
   ],
   "source": [
    "# create knn model\n",
    "knn = NearestNeighbors(n_neighbors=100, metric='cosine', algorithm='auto', n_jobs=-1)\n",
    "\n",
    "# fit knn model to the full_name_vector column\n",
    "knn.fit(full_names['full_name_vector'].tolist())"
   ]
  },
  {
   "cell_type": "code",
   "execution_count": 62,
   "metadata": {},
   "outputs": [
    {
     "name": "stderr",
     "output_type": "stream",
     "text": [
      "distence threshold: 0.001: 100%|██████████| 1674/1674 [00:27<00:00, 60.11it/s]\n"
     ]
    },
    {
     "name": "stdout",
     "output_type": "stream",
     "text": [
      "Accuracy of the model: 99.55% with threshold 0.001\n",
      "Precision of the model: 99.55% with threshold 0.001\n",
      "Recall of the model: 70.48% with threshold 0.001\n",
      "F1 score of the model: 82.53% with threshold 0.001\n"
     ]
    },
    {
     "name": "stderr",
     "output_type": "stream",
     "text": [
      "distence threshold: 0.002: 100%|██████████| 1674/1674 [00:27<00:00, 61.71it/s]\n"
     ]
    },
    {
     "name": "stdout",
     "output_type": "stream",
     "text": [
      "Accuracy of the model: 97.50% with threshold 0.002\n",
      "Precision of the model: 97.50% with threshold 0.002\n",
      "Recall of the model: 74.43% with threshold 0.002\n",
      "F1 score of the model: 84.42% with threshold 0.002\n"
     ]
    },
    {
     "name": "stderr",
     "output_type": "stream",
     "text": [
      "distence threshold: 0.003: 100%|██████████| 1674/1674 [00:27<00:00, 60.71it/s]"
     ]
    },
    {
     "name": "stdout",
     "output_type": "stream",
     "text": [
      "Accuracy of the model: 90.48% with threshold 0.003\n",
      "Precision of the model: 90.48% with threshold 0.003\n",
      "Recall of the model: 78.56% with threshold 0.003\n",
      "F1 score of the model: 84.10% with threshold 0.003\n"
     ]
    },
    {
     "name": "stderr",
     "output_type": "stream",
     "text": [
      "\n"
     ]
    }
   ],
   "source": [
    "THESHOLD = 0.01\n",
    "\n",
    "for THESHOLD in [i/1000 for i in range(1, 4)]:\n",
    "\n",
    "    test_data = pd.read_csv('test_data.csv').set_index('target_id')\n",
    "\n",
    "    for row in tqdm(full_names.index, desc=f\"distence threshold: {THESHOLD}\"):\n",
    "        track_name_vector = full_names.loc[row,'full_name_vector']\n",
    "        # get the 100 nearest neighbours\n",
    "        dist, indx = knn.kneighbors([track_name_vector])\n",
    "        nearest_neighbours = full_names.iloc[indx[0]].index\n",
    "        prediction = [i for i, d in zip(nearest_neighbours, dist[0]) if d < THESHOLD and i != row]\n",
    "\n",
    "        answer = json.loads(test_data.loc[row,'match_id'])\n",
    "\n",
    "        # true positive is the number of track names in the prediction that are also in the answer\n",
    "        test_data.loc[row,'true_positive'] = len([i for i in prediction if i in answer])\n",
    "\n",
    "        # false positive is the number of track names in the prediction that are not in the answer\n",
    "        test_data.loc[row,'false_positive'] = len([i for i in prediction if i not in answer])\n",
    "\n",
    "        # false negative is the number of tracks in the answer that are not in the prediction\n",
    "        test_data.loc[row,'false_negative'] = len([i for i in answer if i not in prediction])\n",
    "\n",
    "        test_data.loc[row,'total_predictions'] = len(prediction)\n",
    "        \n",
    "        \n",
    "    # calculate the accuracy of the model\n",
    "    acc = test_data['true_positive'].sum() / (test_data['total_predictions'].sum())\n",
    "\n",
    "    print(f'Accuracy of the model: {acc:.2%} with threshold {THESHOLD}')\n",
    "\n",
    "    # calculate the precision of the model\n",
    "    precision = test_data['true_positive'].sum() / (test_data['true_positive'].sum() + test_data['false_positive'].sum())\n",
    "\n",
    "    print(f'Precision of the model: {precision:.2%} with threshold {THESHOLD}')\n",
    "\n",
    "    # calculate the recall of the model\n",
    "    recall = test_data['true_positive'].sum() / (test_data['true_positive'].sum() + test_data['false_negative'].sum())\n",
    "\n",
    "    print(f'Recall of the model: {recall:.2%} with threshold {THESHOLD}')\n",
    "\n",
    "    # calculate the f1 score of the model\n",
    "    f1 = 2 * (precision * recall) / (precision + recall)\n",
    "\n",
    "    print(f'F1 score of the model: {f1:.2%} with threshold {THESHOLD}')"
   ]
  },
  {
   "cell_type": "code",
   "execution_count": 249,
   "metadata": {},
   "outputs": [],
   "source": [
    "\n",
    "\n",
    "# load training data\n",
    "\n",
    "# file removed because it's too large to upload to github\n",
    "with open('training_data.json', 'r') as f:\n",
    "    training_data = json.load(f)\n",
    "\n",
    "# split training data into train and dev\n",
    "random.shuffle(training_data)\n",
    "\n",
    "split = 0.2\n",
    "\n",
    "dev_len = round(len(training_data) * split)\n",
    "train_data = training_data[dev_len:]\n",
    "dev_data = training_data[:dev_len]\n",
    "\n",
    "def annotations_to_doc_bin(annotations):\n",
    "    nlp = spacy.blank(\"en\") # load a new blank spacy model\n",
    "    doc_bin = DocBin()\n",
    "\n",
    "    for data in annotations:\n",
    "        doc = nlp.make_doc(data['text'])\n",
    "        ents = []\n",
    "        for start, end, label in data['entities']:\n",
    "            span = doc.char_span(start, end, label=label, alignment_mode=\"contract\")\n",
    "            if span is None:\n",
    "                pass\n",
    "            else:\n",
    "                ents.append(span)\n",
    "        doc.ents = filter_spans(ents)\n",
    "        doc_bin.add(doc)\n",
    "    return doc_bin\n",
    "\n",
    "\n",
    "\n",
    "annotations_to_doc_bin(train_data).to_disk(\"train.spacy\")\n",
    "annotations_to_doc_bin(dev_data).to_disk(\"dev.spacy\")"
   ]
  },
  {
   "cell_type": "code",
   "execution_count": 250,
   "metadata": {},
   "outputs": [
    {
     "name": "stdout",
     "output_type": "stream",
     "text": [
      "✔ Auto-filled config with all values\n",
      "✔ Saved config\n",
      "config.cfg\n",
      "You can now add your data and train your pipeline:\n",
      "python -m spacy train config.cfg --paths.train ./train.spacy --paths.dev ./dev.spacy\n"
     ]
    }
   ],
   "source": [
    "!python -m spacy init fill-config base_config.cfg config.cfg"
   ]
  },
  {
   "cell_type": "code",
   "execution_count": 251,
   "metadata": {},
   "outputs": [
    {
     "name": "stdout",
     "output_type": "stream",
     "text": [
      "ℹ Saving to output directory: .\n",
      "ℹ Using CPU\n",
      "\u001b[1m\n",
      "=========================== Initializing pipeline ===========================\u001b[0m\n",
      "✔ Initialized pipeline\n",
      "\u001b[1m\n",
      "============================= Training pipeline =============================\u001b[0m\n",
      "ℹ Pipeline: ['tok2vec', 'ner']\n",
      "ℹ Initial learn rate: 0.001\n",
      "E    #       LOSS TOK2VEC  LOSS NER  ENTS_F  ENTS_P  ENTS_R  SCORE \n",
      "---  ------  ------------  --------  ------  ------  ------  ------\n",
      "  0       0          0.00     85.67   16.23   13.18   21.13    0.16\n",
      "  2     200         58.09   3785.71   90.50   92.35   88.71    0.90\n",
      "  6     400         57.76    997.97   91.46   92.26   90.68    0.91\n",
      " 10     600         57.60    521.99   90.62   91.22   90.03    0.91\n",
      " 15     800         63.76    373.44   92.25   93.17   91.34    0.92\n",
      " 21    1000         83.63    285.57   91.09   92.32   89.90    0.91\n",
      " 29    1200         69.76    168.63   90.96   91.50   90.42    0.91\n",
      " 39    1400         50.85    106.59   92.17   92.47   91.86    0.92\n",
      " 50    1600         33.81     49.64   91.86   91.86   91.86    0.92\n",
      " 64    1800         53.08     64.29   93.54   93.92   93.18    0.94\n",
      " 81    2000         39.16     40.59   93.13   93.75   92.52    0.93\n",
      "102    2200         61.84     60.96   92.87   93.48   92.26    0.93\n",
      "127    2400        117.73     98.66   91.03   90.85   91.21    0.91\n",
      "152    2600        746.08    782.54   90.52   92.12   88.98    0.91\n",
      "177    2800         83.96     82.06   93.48   93.79   93.18    0.93\n",
      "202    3000         20.28     14.83   92.49   92.86   92.13    0.92\n",
      "227    3200         78.37     58.65   92.87   93.48   92.26    0.93\n",
      "252    3400         69.34     45.05   91.18   91.42   90.94    0.91\n",
      "✔ Saved pipeline to output directory\n",
      "model-last\n"
     ]
    },
    {
     "name": "stderr",
     "output_type": "stream",
     "text": [
      "[2022-11-17 17:05:08,187] [INFO] Set up nlp object from config\n",
      "[2022-11-17 17:05:08,195] [INFO] Pipeline: ['tok2vec', 'ner']\n",
      "[2022-11-17 17:05:08,199] [INFO] Created vocabulary\n",
      "[2022-11-17 17:05:09,707] [INFO] Added vectors: en_core_web_lg\n",
      "[2022-11-17 17:05:11,064] [INFO] Finished initializing nlp object\n",
      "[2022-11-17 17:05:11,703] [INFO] Initialized pipeline components: ['tok2vec', 'ner']\n"
     ]
    }
   ],
   "source": [
    "!python -m spacy train config.cfg --output ./ --paths.train ./train.spacy --paths.dev ./dev.spacy"
   ]
  },
  {
   "cell_type": "code",
   "execution_count": 2,
   "metadata": {},
   "outputs": [],
   "source": [
    "nlp_ner = spacy.load(r\"F:\\track_name_match\\model-best\")"
   ]
  },
  {
   "cell_type": "code",
   "execution_count": 256,
   "metadata": {},
   "outputs": [
    {
     "name": "stderr",
     "output_type": "stream",
     "text": [
      "100%|██████████| 1674/1674 [00:12<00:00, 134.04it/s]\n"
     ]
    }
   ],
   "source": [
    "# convert spotify d to a list of json objects\n",
    "tracks = pd.read_csv('track_name_list.csv').to_dict('records')\n",
    "\n",
    "for track in tqdm(tracks):\n",
    "    doc = nlp_ner(track['name'])\n",
    "    for e in doc.ents:\n",
    "        if e.label_ not in track:\n",
    "            track[e.label_] = [e.text]\n",
    "        else:\n",
    "            track[e.label_].append(e.text)\n",
    "    track['artist'] = track['artist'].split(', ')"
   ]
  },
  {
   "cell_type": "code",
   "execution_count": 255,
   "metadata": {},
   "outputs": [
    {
     "name": "stderr",
     "output_type": "stream",
     "text": [
      "100%|██████████| 1674/1674 [00:00<00:00, 418305.92it/s]\n"
     ]
    }
   ],
   "source": [
    "def produce_clean_name(track):\n",
    "\n",
    "    artists = track['artist']\n",
    "    artists.sort()\n",
    "\n",
    "\n",
    "    # if there are any featured artists in the track make sure they are not in the list of artist\n",
    "\n",
    "\n",
    "    if 'featArtist' in track:\n",
    "        for featArtist in track['featArtist']:\n",
    "            if featArtist in artists:\n",
    "                artists.remove(featArtist)\n",
    "\n",
    "    # if there are any remix artists in the track make sure they are not in the list of artist\n",
    "\n",
    "    if 'remixer' in track:\n",
    "        for remixArtist in track['remixer']:\n",
    "            if remixArtist in artists:\n",
    "                artists.remove(remixArtist)\n",
    "\n",
    "    if \"title\" in track:\n",
    "        if 'remixer' in track:\n",
    "            track['remixer'].sort()\n",
    "            clean_name = f\"{' '.join(track['title'])} {' '.join(track['remixer'])} Remix {' '.join(artists)}\".lower()\n",
    "        else:\n",
    "            clean_name = f\"{' '.join(track['title'])} {' '.join(artists)}\".lower()\n",
    "\n",
    "        return clean_name\n",
    "\n",
    "for track in tqdm(tracks):\n",
    "    clean_name = produce_clean_name(track)\n",
    "    track['clean_name'] = clean_name\n",
    "\n",
    "tracks = pd.DataFrame(tracks).set_index('id')"
   ]
  },
  {
   "cell_type": "code",
   "execution_count": 106,
   "metadata": {},
   "outputs": [
    {
     "name": "stderr",
     "output_type": "stream",
     "text": [
      "100%|██████████| 1674/1674 [00:25<00:00, 65.03it/s]\n"
     ]
    },
    {
     "name": "stdout",
     "output_type": "stream",
     "text": [
      "Accuracy of the model: 65.86% for process ratio with threshold 80\n",
      "Precision of the model: 65.86% for process ratio with threshold 80\n",
      "Recall of the model: 91.92% for process ratio with threshold 80\n",
      "F1 score of the model: 76.74% for process ratio with threshold 80\n"
     ]
    },
    {
     "name": "stderr",
     "output_type": "stream",
     "text": [
      "100%|██████████| 1674/1674 [00:24<00:00, 67.55it/s]\n"
     ]
    },
    {
     "name": "stdout",
     "output_type": "stream",
     "text": [
      "Accuracy of the model: 84.79% for process ratio with threshold 85\n",
      "Precision of the model: 84.79% for process ratio with threshold 85\n",
      "Recall of the model: 89.69% for process ratio with threshold 85\n",
      "F1 score of the model: 87.17% for process ratio with threshold 85\n"
     ]
    },
    {
     "name": "stderr",
     "output_type": "stream",
     "text": [
      "100%|██████████| 1674/1674 [00:23<00:00, 70.74it/s]\n"
     ]
    },
    {
     "name": "stdout",
     "output_type": "stream",
     "text": [
      "Accuracy of the model: 95.30% for process ratio with threshold 90\n",
      "Precision of the model: 95.30% for process ratio with threshold 90\n",
      "Recall of the model: 86.51% for process ratio with threshold 90\n",
      "F1 score of the model: 90.70% for process ratio with threshold 90\n"
     ]
    },
    {
     "name": "stderr",
     "output_type": "stream",
     "text": [
      "100%|██████████| 1674/1674 [00:23<00:00, 70.95it/s]\n"
     ]
    },
    {
     "name": "stdout",
     "output_type": "stream",
     "text": [
      "Accuracy of the model: 97.10% for process ratio with threshold 95\n",
      "Precision of the model: 97.10% for process ratio with threshold 95\n",
      "Recall of the model: 83.14% for process ratio with threshold 95\n",
      "F1 score of the model: 89.58% for process ratio with threshold 95\n"
     ]
    },
    {
     "name": "stderr",
     "output_type": "stream",
     "text": [
      "100%|██████████| 1674/1674 [00:35<00:00, 47.38it/s]\n"
     ]
    },
    {
     "name": "stdout",
     "output_type": "stream",
     "text": [
      "Accuracy of the model: 6.03% for process partial_ratio with threshold 80\n",
      "Precision of the model: 6.03% for process partial_ratio with threshold 80\n",
      "Recall of the model: 95.87% for process partial_ratio with threshold 80\n",
      "F1 score of the model: 11.34% for process partial_ratio with threshold 80\n"
     ]
    },
    {
     "name": "stderr",
     "output_type": "stream",
     "text": [
      "100%|██████████| 1674/1674 [00:36<00:00, 46.18it/s]\n"
     ]
    },
    {
     "name": "stdout",
     "output_type": "stream",
     "text": [
      "Accuracy of the model: 11.95% for process partial_ratio with threshold 85\n",
      "Precision of the model: 11.95% for process partial_ratio with threshold 85\n",
      "Recall of the model: 92.05% for process partial_ratio with threshold 85\n",
      "F1 score of the model: 21.16% for process partial_ratio with threshold 85\n"
     ]
    },
    {
     "name": "stderr",
     "output_type": "stream",
     "text": [
      "100%|██████████| 1674/1674 [00:36<00:00, 45.90it/s]\n"
     ]
    },
    {
     "name": "stdout",
     "output_type": "stream",
     "text": [
      "Accuracy of the model: 50.38% for process partial_ratio with threshold 90\n",
      "Precision of the model: 50.38% for process partial_ratio with threshold 90\n",
      "Recall of the model: 89.69% for process partial_ratio with threshold 90\n",
      "F1 score of the model: 64.52% for process partial_ratio with threshold 90\n"
     ]
    },
    {
     "name": "stderr",
     "output_type": "stream",
     "text": [
      "100%|██████████| 1674/1674 [00:37<00:00, 45.19it/s]\n"
     ]
    },
    {
     "name": "stdout",
     "output_type": "stream",
     "text": [
      "Accuracy of the model: 91.84% for process partial_ratio with threshold 95\n",
      "Precision of the model: 91.84% for process partial_ratio with threshold 95\n",
      "Recall of the model: 88.04% for process partial_ratio with threshold 95\n",
      "F1 score of the model: 89.90% for process partial_ratio with threshold 95\n"
     ]
    },
    {
     "name": "stderr",
     "output_type": "stream",
     "text": [
      "100%|██████████| 1674/1674 [00:34<00:00, 48.62it/s]\n"
     ]
    },
    {
     "name": "stdout",
     "output_type": "stream",
     "text": [
      "Accuracy of the model: 75.35% for process token_sort_ratio with threshold 80\n",
      "Precision of the model: 75.35% for process token_sort_ratio with threshold 80\n",
      "Recall of the model: 92.56% for process token_sort_ratio with threshold 80\n",
      "F1 score of the model: 83.07% for process token_sort_ratio with threshold 80\n"
     ]
    },
    {
     "name": "stderr",
     "output_type": "stream",
     "text": [
      "100%|██████████| 1674/1674 [00:31<00:00, 53.43it/s]\n"
     ]
    },
    {
     "name": "stdout",
     "output_type": "stream",
     "text": [
      "Accuracy of the model: 87.86% for process token_sort_ratio with threshold 85\n",
      "Precision of the model: 87.86% for process token_sort_ratio with threshold 85\n",
      "Recall of the model: 90.27% for process token_sort_ratio with threshold 85\n",
      "F1 score of the model: 89.05% for process token_sort_ratio with threshold 85\n"
     ]
    },
    {
     "name": "stderr",
     "output_type": "stream",
     "text": [
      "100%|██████████| 1674/1674 [00:31<00:00, 53.85it/s]\n"
     ]
    },
    {
     "name": "stdout",
     "output_type": "stream",
     "text": [
      "Accuracy of the model: 95.47% for process token_sort_ratio with threshold 90\n",
      "Precision of the model: 95.47% for process token_sort_ratio with threshold 90\n",
      "Recall of the model: 87.09% for process token_sort_ratio with threshold 90\n",
      "F1 score of the model: 91.08% for process token_sort_ratio with threshold 90\n"
     ]
    },
    {
     "name": "stderr",
     "output_type": "stream",
     "text": [
      "100%|██████████| 1674/1674 [00:31<00:00, 53.16it/s]\n"
     ]
    },
    {
     "name": "stdout",
     "output_type": "stream",
     "text": [
      "Accuracy of the model: 97.11% for process token_sort_ratio with threshold 95\n",
      "Precision of the model: 97.11% for process token_sort_ratio with threshold 95\n",
      "Recall of the model: 83.46% for process token_sort_ratio with threshold 95\n",
      "F1 score of the model: 89.77% for process token_sort_ratio with threshold 95\n"
     ]
    },
    {
     "name": "stderr",
     "output_type": "stream",
     "text": [
      "100%|██████████| 1674/1674 [00:33<00:00, 49.68it/s]\n"
     ]
    },
    {
     "name": "stdout",
     "output_type": "stream",
     "text": [
      "Accuracy of the model: 15.74% for process token_set_ratio with threshold 80\n",
      "Precision of the model: 15.74% for process token_set_ratio with threshold 80\n",
      "Recall of the model: 99.87% for process token_set_ratio with threshold 80\n",
      "F1 score of the model: 27.20% for process token_set_ratio with threshold 80\n"
     ]
    },
    {
     "name": "stderr",
     "output_type": "stream",
     "text": [
      "100%|██████████| 1674/1674 [00:36<00:00, 46.21it/s]\n"
     ]
    },
    {
     "name": "stdout",
     "output_type": "stream",
     "text": [
      "Accuracy of the model: 54.65% for process token_set_ratio with threshold 85\n",
      "Precision of the model: 54.65% for process token_set_ratio with threshold 85\n",
      "Recall of the model: 99.87% for process token_set_ratio with threshold 85\n",
      "F1 score of the model: 70.64% for process token_set_ratio with threshold 85\n"
     ]
    },
    {
     "name": "stderr",
     "output_type": "stream",
     "text": [
      "100%|██████████| 1674/1674 [00:35<00:00, 46.69it/s]\n"
     ]
    },
    {
     "name": "stdout",
     "output_type": "stream",
     "text": [
      "Accuracy of the model: 80.21% for process token_set_ratio with threshold 90\n",
      "Precision of the model: 80.21% for process token_set_ratio with threshold 90\n",
      "Recall of the model: 99.81% for process token_set_ratio with threshold 90\n",
      "F1 score of the model: 88.95% for process token_set_ratio with threshold 90\n"
     ]
    },
    {
     "name": "stderr",
     "output_type": "stream",
     "text": [
      "100%|██████████| 1674/1674 [00:36<00:00, 45.27it/s]"
     ]
    },
    {
     "name": "stdout",
     "output_type": "stream",
     "text": [
      "Accuracy of the model: 82.56% for process token_set_ratio with threshold 95\n",
      "Precision of the model: 82.56% for process token_set_ratio with threshold 95\n",
      "Recall of the model: 99.11% for process token_set_ratio with threshold 95\n",
      "F1 score of the model: 90.08% for process token_set_ratio with threshold 95\n"
     ]
    },
    {
     "name": "stderr",
     "output_type": "stream",
     "text": [
      "\n"
     ]
    },
    {
     "data": {
      "text/html": [
       "<div>\n",
       "<style scoped>\n",
       "    .dataframe tbody tr th:only-of-type {\n",
       "        vertical-align: middle;\n",
       "    }\n",
       "\n",
       "    .dataframe tbody tr th {\n",
       "        vertical-align: top;\n",
       "    }\n",
       "\n",
       "    .dataframe thead th {\n",
       "        text-align: right;\n",
       "    }\n",
       "</style>\n",
       "<table border=\"1\" class=\"dataframe\">\n",
       "  <thead>\n",
       "    <tr style=\"text-align: right;\">\n",
       "      <th></th>\n",
       "      <th>process</th>\n",
       "      <th>threshold</th>\n",
       "      <th>accuracy</th>\n",
       "      <th>precision</th>\n",
       "      <th>recall</th>\n",
       "      <th>f1</th>\n",
       "    </tr>\n",
       "  </thead>\n",
       "  <tbody>\n",
       "    <tr>\n",
       "      <th>10</th>\n",
       "      <td>token_sort_ratio</td>\n",
       "      <td>90</td>\n",
       "      <td>0.954672</td>\n",
       "      <td>0.954672</td>\n",
       "      <td>0.870865</td>\n",
       "      <td>0.910845</td>\n",
       "    </tr>\n",
       "    <tr>\n",
       "      <th>2</th>\n",
       "      <td>ratio</td>\n",
       "      <td>90</td>\n",
       "      <td>0.953048</td>\n",
       "      <td>0.953048</td>\n",
       "      <td>0.865140</td>\n",
       "      <td>0.906969</td>\n",
       "    </tr>\n",
       "    <tr>\n",
       "      <th>15</th>\n",
       "      <td>token_set_ratio</td>\n",
       "      <td>95</td>\n",
       "      <td>0.825649</td>\n",
       "      <td>0.825649</td>\n",
       "      <td>0.991094</td>\n",
       "      <td>0.900838</td>\n",
       "    </tr>\n",
       "    <tr>\n",
       "      <th>7</th>\n",
       "      <td>partial_ratio</td>\n",
       "      <td>95</td>\n",
       "      <td>0.918381</td>\n",
       "      <td>0.918381</td>\n",
       "      <td>0.880407</td>\n",
       "      <td>0.898993</td>\n",
       "    </tr>\n",
       "    <tr>\n",
       "      <th>11</th>\n",
       "      <td>token_sort_ratio</td>\n",
       "      <td>95</td>\n",
       "      <td>0.971132</td>\n",
       "      <td>0.971132</td>\n",
       "      <td>0.834606</td>\n",
       "      <td>0.897708</td>\n",
       "    </tr>\n",
       "    <tr>\n",
       "      <th>3</th>\n",
       "      <td>ratio</td>\n",
       "      <td>95</td>\n",
       "      <td>0.971025</td>\n",
       "      <td>0.971025</td>\n",
       "      <td>0.831425</td>\n",
       "      <td>0.895819</td>\n",
       "    </tr>\n",
       "    <tr>\n",
       "      <th>9</th>\n",
       "      <td>token_sort_ratio</td>\n",
       "      <td>85</td>\n",
       "      <td>0.878638</td>\n",
       "      <td>0.878638</td>\n",
       "      <td>0.902672</td>\n",
       "      <td>0.890493</td>\n",
       "    </tr>\n",
       "    <tr>\n",
       "      <th>14</th>\n",
       "      <td>token_set_ratio</td>\n",
       "      <td>90</td>\n",
       "      <td>0.802147</td>\n",
       "      <td>0.802147</td>\n",
       "      <td>0.998092</td>\n",
       "      <td>0.889456</td>\n",
       "    </tr>\n",
       "    <tr>\n",
       "      <th>1</th>\n",
       "      <td>ratio</td>\n",
       "      <td>85</td>\n",
       "      <td>0.847865</td>\n",
       "      <td>0.847865</td>\n",
       "      <td>0.896947</td>\n",
       "      <td>0.871716</td>\n",
       "    </tr>\n",
       "    <tr>\n",
       "      <th>8</th>\n",
       "      <td>token_sort_ratio</td>\n",
       "      <td>80</td>\n",
       "      <td>0.753496</td>\n",
       "      <td>0.753496</td>\n",
       "      <td>0.925573</td>\n",
       "      <td>0.830717</td>\n",
       "    </tr>\n",
       "    <tr>\n",
       "      <th>0</th>\n",
       "      <td>ratio</td>\n",
       "      <td>80</td>\n",
       "      <td>0.658614</td>\n",
       "      <td>0.658614</td>\n",
       "      <td>0.919211</td>\n",
       "      <td>0.767392</td>\n",
       "    </tr>\n",
       "    <tr>\n",
       "      <th>13</th>\n",
       "      <td>token_set_ratio</td>\n",
       "      <td>85</td>\n",
       "      <td>0.546467</td>\n",
       "      <td>0.546467</td>\n",
       "      <td>0.998728</td>\n",
       "      <td>0.706412</td>\n",
       "    </tr>\n",
       "    <tr>\n",
       "      <th>6</th>\n",
       "      <td>partial_ratio</td>\n",
       "      <td>90</td>\n",
       "      <td>0.503751</td>\n",
       "      <td>0.503751</td>\n",
       "      <td>0.896947</td>\n",
       "      <td>0.645161</td>\n",
       "    </tr>\n",
       "    <tr>\n",
       "      <th>12</th>\n",
       "      <td>token_set_ratio</td>\n",
       "      <td>80</td>\n",
       "      <td>0.157441</td>\n",
       "      <td>0.157441</td>\n",
       "      <td>0.998728</td>\n",
       "      <td>0.272003</td>\n",
       "    </tr>\n",
       "    <tr>\n",
       "      <th>5</th>\n",
       "      <td>partial_ratio</td>\n",
       "      <td>85</td>\n",
       "      <td>0.119547</td>\n",
       "      <td>0.119547</td>\n",
       "      <td>0.920483</td>\n",
       "      <td>0.211612</td>\n",
       "    </tr>\n",
       "    <tr>\n",
       "      <th>4</th>\n",
       "      <td>partial_ratio</td>\n",
       "      <td>80</td>\n",
       "      <td>0.060251</td>\n",
       "      <td>0.060251</td>\n",
       "      <td>0.958651</td>\n",
       "      <td>0.113376</td>\n",
       "    </tr>\n",
       "  </tbody>\n",
       "</table>\n",
       "</div>"
      ],
      "text/plain": [
       "             process  threshold  accuracy  precision    recall        f1\n",
       "10  token_sort_ratio         90  0.954672   0.954672  0.870865  0.910845\n",
       "2              ratio         90  0.953048   0.953048  0.865140  0.906969\n",
       "15   token_set_ratio         95  0.825649   0.825649  0.991094  0.900838\n",
       "7      partial_ratio         95  0.918381   0.918381  0.880407  0.898993\n",
       "11  token_sort_ratio         95  0.971132   0.971132  0.834606  0.897708\n",
       "3              ratio         95  0.971025   0.971025  0.831425  0.895819\n",
       "9   token_sort_ratio         85  0.878638   0.878638  0.902672  0.890493\n",
       "14   token_set_ratio         90  0.802147   0.802147  0.998092  0.889456\n",
       "1              ratio         85  0.847865   0.847865  0.896947  0.871716\n",
       "8   token_sort_ratio         80  0.753496   0.753496  0.925573  0.830717\n",
       "0              ratio         80  0.658614   0.658614  0.919211  0.767392\n",
       "13   token_set_ratio         85  0.546467   0.546467  0.998728  0.706412\n",
       "6      partial_ratio         90  0.503751   0.503751  0.896947  0.645161\n",
       "12   token_set_ratio         80  0.157441   0.157441  0.998728  0.272003\n",
       "5      partial_ratio         85  0.119547   0.119547  0.920483  0.211612\n",
       "4      partial_ratio         80  0.060251   0.060251  0.958651  0.113376"
      ]
     },
     "execution_count": 106,
     "metadata": {},
     "output_type": "execute_result"
    }
   ],
   "source": [
    "\n",
    "def fuzzy_match(target, threshold, process):\n",
    "    results = []\n",
    "    for id in tracks.index:\n",
    "\n",
    "        comparison = tracks.loc[id, 'clean_name']\n",
    "        score = getattr(fuzz,process)(target, comparison)\n",
    "        if score > threshold:\n",
    "            results.append({\"id\":id, \"name\":comparison, \"score\":score})\n",
    "\n",
    "    results = pd.DataFrame(results).sort_values('score', ascending=False)\n",
    "    return results['id'].tolist()\n",
    "\n",
    "THESHOLD = 90\n",
    "PROCESS = \"ratio\"\n",
    "results = []\n",
    "for PROCESS in ['ratio', 'partial_ratio', 'token_sort_ratio', 'token_set_ratio']:\n",
    "    for THESHOLD in [80, 85, 90, 95]:\n",
    "        test_data = pd.read_csv('test_data.csv').set_index('target_id')\n",
    "\n",
    "        for row in tqdm(tracks.index):\n",
    "\n",
    "            clean_name = tracks.loc[row, 'clean_name']\n",
    "            prediction = fuzzy_match(clean_name, THESHOLD, PROCESS)\n",
    "            prediction = [x for x in prediction if x != row]\n",
    "\n",
    "            answer = json.loads(test_data.loc[row,'match_id'])\n",
    "\n",
    "            # true positive is the number of track names in the prediction that are also in the answer\n",
    "            test_data.loc[row,'true_positive'] = len([i for i in prediction if i in answer])\n",
    "\n",
    "            # false positive is the number of track names in the prediction that are not in the answer\n",
    "            test_data.loc[row,'false_positive'] = len([i for i in prediction if i not in answer])\n",
    "\n",
    "            # false negative is the number of tracks in the answer that are not in the prediction\n",
    "            test_data.loc[row,'false_negative'] = len([i for i in answer if i not in prediction])\n",
    "\n",
    "            test_data.loc[row,'total_predictions'] = len(prediction)\n",
    "                \n",
    "                \n",
    "        # calculate the accuracy of the model\n",
    "        acc = test_data['true_positive'].sum() / (test_data['total_predictions'].sum())\n",
    "\n",
    "        print(f'Accuracy of the model: {acc:.2%} for process {PROCESS} with threshold {THESHOLD}')\n",
    "\n",
    "        # calculate the precision of the model\n",
    "        precision = test_data['true_positive'].sum() / (test_data['true_positive'].sum() + test_data['false_positive'].sum())\n",
    "\n",
    "        print(f'Precision of the model: {precision:.2%} for process {PROCESS} with threshold {THESHOLD}')\n",
    "\n",
    "        # calculate the recall of the model\n",
    "        recall = test_data['true_positive'].sum() / (test_data['true_positive'].sum() + test_data['false_negative'].sum())\n",
    "\n",
    "        print(f'Recall of the model: {recall:.2%} for process {PROCESS} with threshold {THESHOLD}')\n",
    "\n",
    "        # calculate the f1 score of the model\n",
    "        f1 = 2 * (precision * recall) / (precision + recall)\n",
    "\n",
    "        print(f'F1 score of the model: {f1:.2%} for process {PROCESS} with threshold {THESHOLD}')\n",
    "\n",
    "        results.append({'process':PROCESS, 'threshold':THESHOLD, 'accuracy':acc, 'precision':precision, 'recall':recall, 'f1':f1})\n",
    "\n",
    "results = pd.DataFrame(results)\n",
    "results.sort_values('f1', ascending=False)"
   ]
  },
  {
   "cell_type": "code",
   "execution_count": 108,
   "metadata": {},
   "outputs": [
    {
     "name": "stderr",
     "output_type": "stream",
     "text": [
      "100%|██████████| 1674/1674 [00:31<00:00, 53.53it/s]"
     ]
    },
    {
     "name": "stdout",
     "output_type": "stream",
     "text": [
      "Accuracy of the model: 95.47% for process token_sort_ratio with threshold 90\n",
      "Precision of the model: 95.47% for process token_sort_ratio with threshold 90\n",
      "Recall of the model: 87.09% for process token_sort_ratio with threshold 90\n",
      "F1 score of the model: 91.08% for process token_sort_ratio with threshold 90\n"
     ]
    },
    {
     "name": "stderr",
     "output_type": "stream",
     "text": [
      "\n"
     ]
    }
   ],
   "source": [
    "PROCESS = 'token_sort_ratio'\n",
    "THESHOLD = 90\n",
    "\n",
    "test_data = pd.read_csv('test_data.csv').set_index('target_id')\n",
    "\n",
    "for row in tqdm(tracks.index):\n",
    "\n",
    "    clean_name = tracks.loc[row, 'clean_name']\n",
    "    prediction = fuzzy_match(clean_name, THESHOLD, PROCESS)\n",
    "    prediction = [x for x in prediction if x != row]\n",
    "\n",
    "    answer = json.loads(test_data.loc[row,'match_id'])\n",
    "\n",
    "    # true positive is the number of track names in the prediction that are also in the answer\n",
    "    test_data.loc[row,'true_positive'] = len([i for i in prediction if i in answer])\n",
    "\n",
    "    # false positive is the number of track names in the prediction that are not in the answer\n",
    "    test_data.loc[row,'false_positive'] = len([i for i in prediction if i not in answer])\n",
    "\n",
    "    # false negative is the number of tracks in the answer that are not in the prediction\n",
    "    test_data.loc[row,'false_negative'] = len([i for i in answer if i not in prediction])\n",
    "\n",
    "    test_data.loc[row,'total_predictions'] = len(prediction)\n",
    "        \n",
    "        \n",
    "# calculate the accuracy of the model\n",
    "acc = test_data['true_positive'].sum() / (test_data['total_predictions'].sum())\n",
    "\n",
    "print(f'Accuracy of the model: {acc:.2%} for process {PROCESS} with threshold {THESHOLD}')\n",
    "\n",
    "# calculate the precision of the model\n",
    "precision = test_data['true_positive'].sum() / (test_data['true_positive'].sum() + test_data['false_positive'].sum())\n",
    "\n",
    "print(f'Precision of the model: {precision:.2%} for process {PROCESS} with threshold {THESHOLD}')\n",
    "\n",
    "# calculate the recall of the model\n",
    "recall = test_data['true_positive'].sum() / (test_data['true_positive'].sum() + test_data['false_negative'].sum())\n",
    "\n",
    "print(f'Recall of the model: {recall:.2%} for process {PROCESS} with threshold {THESHOLD}')\n",
    "\n",
    "# calculate the f1 score of the model\n",
    "f1 = 2 * (precision * recall) / (precision + recall)\n",
    "\n",
    "print(f'F1 score of the model: {f1:.2%} for process {PROCESS} with threshold {THESHOLD}')"
   ]
  },
  {
   "cell_type": "code",
   "execution_count": 110,
   "metadata": {},
   "outputs": [
    {
     "data": {
      "text/html": [
       "<div>\n",
       "<style scoped>\n",
       "    .dataframe tbody tr th:only-of-type {\n",
       "        vertical-align: middle;\n",
       "    }\n",
       "\n",
       "    .dataframe tbody tr th {\n",
       "        vertical-align: top;\n",
       "    }\n",
       "\n",
       "    .dataframe thead th {\n",
       "        text-align: right;\n",
       "    }\n",
       "</style>\n",
       "<table border=\"1\" class=\"dataframe\">\n",
       "  <thead>\n",
       "    <tr style=\"text-align: right;\">\n",
       "      <th></th>\n",
       "      <th>match_id</th>\n",
       "      <th>true_positive</th>\n",
       "      <th>false_positive</th>\n",
       "      <th>false_negative</th>\n",
       "      <th>total_predictions</th>\n",
       "    </tr>\n",
       "    <tr>\n",
       "      <th>target_id</th>\n",
       "      <th></th>\n",
       "      <th></th>\n",
       "      <th></th>\n",
       "      <th></th>\n",
       "      <th></th>\n",
       "    </tr>\n",
       "  </thead>\n",
       "  <tbody>\n",
       "    <tr>\n",
       "      <th>15988821</th>\n",
       "      <td>[70927, 15984752, 15980885, 15460830, 14500502...</td>\n",
       "      <td>0.0</td>\n",
       "      <td>0.0</td>\n",
       "      <td>12.0</td>\n",
       "      <td>0.0</td>\n",
       "    </tr>\n",
       "    <tr>\n",
       "      <th>70927</th>\n",
       "      <td>[15984752, 15988821, 15980885, 15460830, 14500...</td>\n",
       "      <td>0.0</td>\n",
       "      <td>0.0</td>\n",
       "      <td>12.0</td>\n",
       "      <td>0.0</td>\n",
       "    </tr>\n",
       "    <tr>\n",
       "      <th>1854197</th>\n",
       "      <td>[72138, 2170039, 1639274, 1616286, 3793719]</td>\n",
       "      <td>0.0</td>\n",
       "      <td>0.0</td>\n",
       "      <td>5.0</td>\n",
       "      <td>0.0</td>\n",
       "    </tr>\n",
       "    <tr>\n",
       "      <th>70560</th>\n",
       "      <td>[16000923, 7464140, 5175030, 5060778, 1250989]</td>\n",
       "      <td>0.0</td>\n",
       "      <td>1.0</td>\n",
       "      <td>5.0</td>\n",
       "      <td>1.0</td>\n",
       "    </tr>\n",
       "    <tr>\n",
       "      <th>8267950</th>\n",
       "      <td>[70633, 10073343, 8300776, 4595138]</td>\n",
       "      <td>0.0</td>\n",
       "      <td>0.0</td>\n",
       "      <td>4.0</td>\n",
       "      <td>0.0</td>\n",
       "    </tr>\n",
       "    <tr>\n",
       "      <th>16000923</th>\n",
       "      <td>[70560, 7464140, 5175030, 5060778, 1250989]</td>\n",
       "      <td>1.0</td>\n",
       "      <td>3.0</td>\n",
       "      <td>4.0</td>\n",
       "      <td>4.0</td>\n",
       "    </tr>\n",
       "    <tr>\n",
       "      <th>70553</th>\n",
       "      <td>[10136028, 6220514, 2198842, 773918]</td>\n",
       "      <td>0.0</td>\n",
       "      <td>1.0</td>\n",
       "      <td>4.0</td>\n",
       "      <td>1.0</td>\n",
       "    </tr>\n",
       "    <tr>\n",
       "      <th>10136028</th>\n",
       "      <td>[70553, 6220514, 2198842, 773918]</td>\n",
       "      <td>0.0</td>\n",
       "      <td>3.0</td>\n",
       "      <td>4.0</td>\n",
       "      <td>3.0</td>\n",
       "    </tr>\n",
       "    <tr>\n",
       "      <th>72508</th>\n",
       "      <td>[7366291, 6466036, 4461422, 2443112]</td>\n",
       "      <td>0.0</td>\n",
       "      <td>0.0</td>\n",
       "      <td>4.0</td>\n",
       "      <td>0.0</td>\n",
       "    </tr>\n",
       "    <tr>\n",
       "      <th>70630</th>\n",
       "      <td>[7394702, 5057761, 4434020, 3868177]</td>\n",
       "      <td>0.0</td>\n",
       "      <td>0.0</td>\n",
       "      <td>4.0</td>\n",
       "      <td>0.0</td>\n",
       "    </tr>\n",
       "  </tbody>\n",
       "</table>\n",
       "</div>"
      ],
      "text/plain": [
       "                                                    match_id  true_positive  \\\n",
       "target_id                                                                     \n",
       "15988821   [70927, 15984752, 15980885, 15460830, 14500502...            0.0   \n",
       "70927      [15984752, 15988821, 15980885, 15460830, 14500...            0.0   \n",
       "1854197          [72138, 2170039, 1639274, 1616286, 3793719]            0.0   \n",
       "70560         [16000923, 7464140, 5175030, 5060778, 1250989]            0.0   \n",
       "8267950                  [70633, 10073343, 8300776, 4595138]            0.0   \n",
       "16000923         [70560, 7464140, 5175030, 5060778, 1250989]            1.0   \n",
       "70553                   [10136028, 6220514, 2198842, 773918]            0.0   \n",
       "10136028                   [70553, 6220514, 2198842, 773918]            0.0   \n",
       "72508                   [7366291, 6466036, 4461422, 2443112]            0.0   \n",
       "70630                   [7394702, 5057761, 4434020, 3868177]            0.0   \n",
       "\n",
       "           false_positive  false_negative  total_predictions  \n",
       "target_id                                                     \n",
       "15988821              0.0            12.0                0.0  \n",
       "70927                 0.0            12.0                0.0  \n",
       "1854197               0.0             5.0                0.0  \n",
       "70560                 1.0             5.0                1.0  \n",
       "8267950               0.0             4.0                0.0  \n",
       "16000923              3.0             4.0                4.0  \n",
       "70553                 1.0             4.0                1.0  \n",
       "10136028              3.0             4.0                3.0  \n",
       "72508                 0.0             4.0                0.0  \n",
       "70630                 0.0             4.0                0.0  "
      ]
     },
     "execution_count": 110,
     "metadata": {},
     "output_type": "execute_result"
    }
   ],
   "source": [
    "test_data.sort_values('false_negative', ascending=False).head(10)"
   ]
  },
  {
   "cell_type": "code",
   "execution_count": 111,
   "metadata": {},
   "outputs": [
    {
     "data": {
      "text/plain": [
       "name                                     Love Is The Drug\n",
       "artist                          [Bryan Ferry, Roxy Music]\n",
       "platform                                     SpotifyTrack\n",
       "title                                  [Love Is The Drug]\n",
       "remixer                                               NaN\n",
       "clean_name        love is the drug bryan ferry roxy music\n",
       "subTitle                                              NaN\n",
       "version                                               NaN\n",
       "featuredArtist                                        NaN\n",
       "mood                                                  NaN\n",
       "quality                                               NaN\n",
       "Name: 15988821, dtype: object"
      ]
     },
     "execution_count": 111,
     "metadata": {},
     "output_type": "execute_result"
    }
   ],
   "source": [
    "tracks.loc[15988821]"
   ]
  },
  {
   "cell_type": "code",
   "execution_count": 112,
   "metadata": {},
   "outputs": [
    {
     "data": {
      "text/html": [
       "<div>\n",
       "<style scoped>\n",
       "    .dataframe tbody tr th:only-of-type {\n",
       "        vertical-align: middle;\n",
       "    }\n",
       "\n",
       "    .dataframe tbody tr th {\n",
       "        vertical-align: top;\n",
       "    }\n",
       "\n",
       "    .dataframe thead th {\n",
       "        text-align: right;\n",
       "    }\n",
       "</style>\n",
       "<table border=\"1\" class=\"dataframe\">\n",
       "  <thead>\n",
       "    <tr style=\"text-align: right;\">\n",
       "      <th></th>\n",
       "      <th>name</th>\n",
       "      <th>artist</th>\n",
       "      <th>platform</th>\n",
       "      <th>title</th>\n",
       "      <th>remixer</th>\n",
       "      <th>clean_name</th>\n",
       "      <th>subTitle</th>\n",
       "      <th>version</th>\n",
       "      <th>featuredArtist</th>\n",
       "      <th>mood</th>\n",
       "      <th>quality</th>\n",
       "    </tr>\n",
       "    <tr>\n",
       "      <th>id</th>\n",
       "      <th></th>\n",
       "      <th></th>\n",
       "      <th></th>\n",
       "      <th></th>\n",
       "      <th></th>\n",
       "      <th></th>\n",
       "      <th></th>\n",
       "      <th></th>\n",
       "      <th></th>\n",
       "      <th></th>\n",
       "      <th></th>\n",
       "    </tr>\n",
       "  </thead>\n",
       "  <tbody>\n",
       "    <tr>\n",
       "      <th>70927</th>\n",
       "      <td>Love Is The Drug</td>\n",
       "      <td>[Bryan Ferry, Roxy Music, Todd Terje]</td>\n",
       "      <td>Track</td>\n",
       "      <td>[Love Is The Drug]</td>\n",
       "      <td>NaN</td>\n",
       "      <td>love is the drug bryan ferry roxy music todd t...</td>\n",
       "      <td>NaN</td>\n",
       "      <td>NaN</td>\n",
       "      <td>NaN</td>\n",
       "      <td>NaN</td>\n",
       "      <td>NaN</td>\n",
       "    </tr>\n",
       "    <tr>\n",
       "      <th>15984752</th>\n",
       "      <td>Love Is The Drug - Remastered 1999</td>\n",
       "      <td>[Roxy Music]</td>\n",
       "      <td>SpotifyTrack</td>\n",
       "      <td>[Love Is The Drug]</td>\n",
       "      <td>NaN</td>\n",
       "      <td>love is the drug roxy music</td>\n",
       "      <td>[Remastered 1999]</td>\n",
       "      <td>NaN</td>\n",
       "      <td>NaN</td>\n",
       "      <td>NaN</td>\n",
       "      <td>NaN</td>\n",
       "    </tr>\n",
       "    <tr>\n",
       "      <th>15980885</th>\n",
       "      <td>Love Is The Drug</td>\n",
       "      <td>[Roxy Music]</td>\n",
       "      <td>SpotifyTrack</td>\n",
       "      <td>[Love Is The Drug]</td>\n",
       "      <td>NaN</td>\n",
       "      <td>love is the drug roxy music</td>\n",
       "      <td>NaN</td>\n",
       "      <td>NaN</td>\n",
       "      <td>NaN</td>\n",
       "      <td>NaN</td>\n",
       "      <td>NaN</td>\n",
       "    </tr>\n",
       "    <tr>\n",
       "      <th>15460830</th>\n",
       "      <td>Love Is The Drug</td>\n",
       "      <td>[Roxy Music]</td>\n",
       "      <td>SpotifyTrack</td>\n",
       "      <td>[Love Is The Drug]</td>\n",
       "      <td>NaN</td>\n",
       "      <td>love is the drug roxy music</td>\n",
       "      <td>NaN</td>\n",
       "      <td>NaN</td>\n",
       "      <td>NaN</td>\n",
       "      <td>NaN</td>\n",
       "      <td>NaN</td>\n",
       "    </tr>\n",
       "    <tr>\n",
       "      <th>14500502</th>\n",
       "      <td>Love Is The Drug - Remastered 1999</td>\n",
       "      <td>[Roxy Music]</td>\n",
       "      <td>SpotifyTrack</td>\n",
       "      <td>[Love Is The Drug]</td>\n",
       "      <td>NaN</td>\n",
       "      <td>love is the drug roxy music</td>\n",
       "      <td>[Remastered 1999]</td>\n",
       "      <td>NaN</td>\n",
       "      <td>NaN</td>\n",
       "      <td>NaN</td>\n",
       "      <td>NaN</td>\n",
       "    </tr>\n",
       "    <tr>\n",
       "      <th>11281410</th>\n",
       "      <td>Love Is The Drug</td>\n",
       "      <td>[Roxy Music]</td>\n",
       "      <td>SpotifyTrack</td>\n",
       "      <td>[Love Is The Drug]</td>\n",
       "      <td>NaN</td>\n",
       "      <td>love is the drug roxy music</td>\n",
       "      <td>NaN</td>\n",
       "      <td>NaN</td>\n",
       "      <td>NaN</td>\n",
       "      <td>NaN</td>\n",
       "      <td>NaN</td>\n",
       "    </tr>\n",
       "    <tr>\n",
       "      <th>10017574</th>\n",
       "      <td>Love Is The Drug</td>\n",
       "      <td>[Roxy Music]</td>\n",
       "      <td>SpotifyTrack</td>\n",
       "      <td>[Love Is The Drug]</td>\n",
       "      <td>NaN</td>\n",
       "      <td>love is the drug roxy music</td>\n",
       "      <td>NaN</td>\n",
       "      <td>NaN</td>\n",
       "      <td>NaN</td>\n",
       "      <td>NaN</td>\n",
       "      <td>NaN</td>\n",
       "    </tr>\n",
       "    <tr>\n",
       "      <th>8196637</th>\n",
       "      <td>Love Is The Drug</td>\n",
       "      <td>[Roxy Music]</td>\n",
       "      <td>SpotifyTrack</td>\n",
       "      <td>[Love Is The Drug]</td>\n",
       "      <td>NaN</td>\n",
       "      <td>love is the drug roxy music</td>\n",
       "      <td>NaN</td>\n",
       "      <td>NaN</td>\n",
       "      <td>NaN</td>\n",
       "      <td>NaN</td>\n",
       "      <td>NaN</td>\n",
       "    </tr>\n",
       "    <tr>\n",
       "      <th>7655811</th>\n",
       "      <td>Love Is The Drug</td>\n",
       "      <td>[Roxy Music]</td>\n",
       "      <td>SpotifyTrack</td>\n",
       "      <td>[Love Is The Drug]</td>\n",
       "      <td>NaN</td>\n",
       "      <td>love is the drug roxy music</td>\n",
       "      <td>NaN</td>\n",
       "      <td>NaN</td>\n",
       "      <td>NaN</td>\n",
       "      <td>NaN</td>\n",
       "      <td>NaN</td>\n",
       "    </tr>\n",
       "    <tr>\n",
       "      <th>7555597</th>\n",
       "      <td>Love Is The Drug</td>\n",
       "      <td>[Roxy Music]</td>\n",
       "      <td>SpotifyTrack</td>\n",
       "      <td>[Love Is The Drug]</td>\n",
       "      <td>NaN</td>\n",
       "      <td>love is the drug roxy music</td>\n",
       "      <td>NaN</td>\n",
       "      <td>NaN</td>\n",
       "      <td>NaN</td>\n",
       "      <td>NaN</td>\n",
       "      <td>NaN</td>\n",
       "    </tr>\n",
       "    <tr>\n",
       "      <th>1438060</th>\n",
       "      <td>Love Is The Drug</td>\n",
       "      <td>[Roxy Music]</td>\n",
       "      <td>SpotifyTrack</td>\n",
       "      <td>[Love Is The Drug]</td>\n",
       "      <td>NaN</td>\n",
       "      <td>love is the drug roxy music</td>\n",
       "      <td>NaN</td>\n",
       "      <td>NaN</td>\n",
       "      <td>NaN</td>\n",
       "      <td>NaN</td>\n",
       "      <td>NaN</td>\n",
       "    </tr>\n",
       "    <tr>\n",
       "      <th>1684327</th>\n",
       "      <td>Love Is The Drug</td>\n",
       "      <td>[Roxy Music]</td>\n",
       "      <td>SpotifyTrack</td>\n",
       "      <td>[Love Is The Drug]</td>\n",
       "      <td>NaN</td>\n",
       "      <td>love is the drug roxy music</td>\n",
       "      <td>NaN</td>\n",
       "      <td>NaN</td>\n",
       "      <td>NaN</td>\n",
       "      <td>NaN</td>\n",
       "      <td>NaN</td>\n",
       "    </tr>\n",
       "  </tbody>\n",
       "</table>\n",
       "</div>"
      ],
      "text/plain": [
       "                                        name  \\\n",
       "id                                             \n",
       "70927                       Love Is The Drug   \n",
       "15984752  Love Is The Drug - Remastered 1999   \n",
       "15980885                    Love Is The Drug   \n",
       "15460830                    Love Is The Drug   \n",
       "14500502  Love Is The Drug - Remastered 1999   \n",
       "11281410                    Love Is The Drug   \n",
       "10017574                    Love Is The Drug   \n",
       "8196637                     Love Is The Drug   \n",
       "7655811                     Love Is The Drug   \n",
       "7555597                     Love Is The Drug   \n",
       "1438060                     Love Is The Drug   \n",
       "1684327                     Love Is The Drug   \n",
       "\n",
       "                                         artist      platform  \\\n",
       "id                                                              \n",
       "70927     [Bryan Ferry, Roxy Music, Todd Terje]         Track   \n",
       "15984752                           [Roxy Music]  SpotifyTrack   \n",
       "15980885                           [Roxy Music]  SpotifyTrack   \n",
       "15460830                           [Roxy Music]  SpotifyTrack   \n",
       "14500502                           [Roxy Music]  SpotifyTrack   \n",
       "11281410                           [Roxy Music]  SpotifyTrack   \n",
       "10017574                           [Roxy Music]  SpotifyTrack   \n",
       "8196637                            [Roxy Music]  SpotifyTrack   \n",
       "7655811                            [Roxy Music]  SpotifyTrack   \n",
       "7555597                            [Roxy Music]  SpotifyTrack   \n",
       "1438060                            [Roxy Music]  SpotifyTrack   \n",
       "1684327                            [Roxy Music]  SpotifyTrack   \n",
       "\n",
       "                       title remixer  \\\n",
       "id                                     \n",
       "70927     [Love Is The Drug]     NaN   \n",
       "15984752  [Love Is The Drug]     NaN   \n",
       "15980885  [Love Is The Drug]     NaN   \n",
       "15460830  [Love Is The Drug]     NaN   \n",
       "14500502  [Love Is The Drug]     NaN   \n",
       "11281410  [Love Is The Drug]     NaN   \n",
       "10017574  [Love Is The Drug]     NaN   \n",
       "8196637   [Love Is The Drug]     NaN   \n",
       "7655811   [Love Is The Drug]     NaN   \n",
       "7555597   [Love Is The Drug]     NaN   \n",
       "1438060   [Love Is The Drug]     NaN   \n",
       "1684327   [Love Is The Drug]     NaN   \n",
       "\n",
       "                                                 clean_name  \\\n",
       "id                                                            \n",
       "70927     love is the drug bryan ferry roxy music todd t...   \n",
       "15984752                        love is the drug roxy music   \n",
       "15980885                        love is the drug roxy music   \n",
       "15460830                        love is the drug roxy music   \n",
       "14500502                        love is the drug roxy music   \n",
       "11281410                        love is the drug roxy music   \n",
       "10017574                        love is the drug roxy music   \n",
       "8196637                         love is the drug roxy music   \n",
       "7655811                         love is the drug roxy music   \n",
       "7555597                         love is the drug roxy music   \n",
       "1438060                         love is the drug roxy music   \n",
       "1684327                         love is the drug roxy music   \n",
       "\n",
       "                   subTitle version featuredArtist mood quality  \n",
       "id                                                               \n",
       "70927                   NaN     NaN            NaN  NaN     NaN  \n",
       "15984752  [Remastered 1999]     NaN            NaN  NaN     NaN  \n",
       "15980885                NaN     NaN            NaN  NaN     NaN  \n",
       "15460830                NaN     NaN            NaN  NaN     NaN  \n",
       "14500502  [Remastered 1999]     NaN            NaN  NaN     NaN  \n",
       "11281410                NaN     NaN            NaN  NaN     NaN  \n",
       "10017574                NaN     NaN            NaN  NaN     NaN  \n",
       "8196637                 NaN     NaN            NaN  NaN     NaN  \n",
       "7655811                 NaN     NaN            NaN  NaN     NaN  \n",
       "7555597                 NaN     NaN            NaN  NaN     NaN  \n",
       "1438060                 NaN     NaN            NaN  NaN     NaN  \n",
       "1684327                 NaN     NaN            NaN  NaN     NaN  "
      ]
     },
     "execution_count": 112,
     "metadata": {},
     "output_type": "execute_result"
    }
   ],
   "source": [
    "tracks.loc[json.loads(test_data.loc[15988821,\"match_id\"])]"
   ]
  },
  {
   "cell_type": "code",
   "execution_count": 91,
   "metadata": {},
   "outputs": [],
   "source": [
    "# upon examining the test results from the highest scorring model, \n",
    "# we can see that the model gets confused if there are extra artists\n",
    "# perhaps if we fuzzy match the artists,  as well as the track name we can improve the model"
   ]
  },
  {
   "cell_type": "code",
   "execution_count": 5,
   "metadata": {},
   "outputs": [
    {
     "name": "stderr",
     "output_type": "stream",
     "text": [
      "100%|██████████| 1674/1674 [00:13<00:00, 122.88it/s]\n"
     ]
    }
   ],
   "source": [
    "# convert spotify d to a list of json objects\n",
    "tracks = pd.read_csv('track_name_list.csv').to_dict('records')\n",
    "\n",
    "for track in tqdm(tracks):\n",
    "    doc = nlp_ner(track['name'])\n",
    "    for e in doc.ents:\n",
    "        if e.label_ not in track:\n",
    "            track[e.label_] = [e.text]\n",
    "        else:\n",
    "            track[e.label_].append(e.text)\n",
    "    track['artist'] = track['artist'].split(', ')"
   ]
  },
  {
   "cell_type": "code",
   "execution_count": 6,
   "metadata": {},
   "outputs": [
    {
     "name": "stderr",
     "output_type": "stream",
     "text": [
      "100%|██████████| 1674/1674 [00:00<00:00, 418430.57it/s]\n"
     ]
    }
   ],
   "source": [
    "def produce_clean_title(track):\n",
    "\n",
    "    artists = track['artist']\n",
    "    artists.sort()\n",
    "\n",
    "\n",
    "    # if there are any featured artists in the track make sure they are not in the list of artist\n",
    "\n",
    "\n",
    "    if 'featArtist' in track:\n",
    "        for featArtist in track['featArtist']:\n",
    "            if featArtist in artists:\n",
    "                artists.remove(featArtist)\n",
    "\n",
    "    # if there are any remix artists in the track make sure they are not in the list of artist\n",
    "\n",
    "    if 'remixer' in track:\n",
    "        for remixArtist in track['remixer']:\n",
    "            if remixArtist in artists:\n",
    "                artists.remove(remixArtist)\n",
    "\n",
    "    if \"title\" in track:\n",
    "        if 'remixer' in track:\n",
    "            track['remixer'].sort()\n",
    "            clean_name = f\"{' '.join(track['title'])} {' '.join(list(set(track['remixer'])))} Remix\".lower()\n",
    "        else:\n",
    "            clean_name = f\"{' '.join(track['title'])}\".lower()\n",
    "\n",
    "        return clean_name\n",
    "\n",
    "for track in tqdm(tracks):\n",
    "    clean_name = produce_clean_title(track)\n",
    "    track['clean_title'] = clean_name\n",
    "    track['clean_artist'] = ' '.join(track['artist']).lower()"
   ]
  },
  {
   "cell_type": "code",
   "execution_count": 7,
   "metadata": {},
   "outputs": [],
   "source": [
    "tracks = pd.DataFrame(tracks).set_index('id')"
   ]
  },
  {
   "cell_type": "code",
   "execution_count": 8,
   "metadata": {},
   "outputs": [],
   "source": [
    "def fuzzy_match(target_title, target_artist, threshold, title_process, artist_process):\n",
    "    results = []\n",
    "    for id in tracks.index:\n",
    "\n",
    "        title_comparison = tracks.loc[id, 'clean_title']\n",
    "        title_score = getattr(fuzz,title_process)(target_title, title_comparison)\n",
    "        artist_comparison = tracks.loc[id, 'clean_artist']\n",
    "        artist_score = getattr(fuzz,artist_process)(target_artist, artist_comparison)\n",
    "        score = (title_score + artist_score) / 2\n",
    "        #print(score)\n",
    "        \n",
    "        if score > threshold:\n",
    "            results.append({\"id\":id, \"title_comparison\":title_comparison, \"artist_comparison\":artist_comparison, \"score\":score})\n",
    "    if results:\n",
    "        results = pd.DataFrame(results).sort_values('score', ascending=False)\n",
    "        return results['id'].tolist()\n",
    "    else:\n",
    "        return []"
   ]
  },
  {
   "cell_type": "code",
   "execution_count": 208,
   "metadata": {},
   "outputs": [
    {
     "name": "stderr",
     "output_type": "stream",
     "text": [
      "100%|██████████| 1674/1674 [00:47<00:00, 35.57it/s]\n"
     ]
    },
    {
     "name": "stdout",
     "output_type": "stream",
     "text": [
      "Accuracy of the model: 84.04% for title process ratio and artist_process ratio with threshold 80\n",
      "Precision of the model: 84.04% for title process ratio and artist_process ratio with threshold 80\n",
      "Recall of the model: 93.13% for title process ratio and artist_process ratio with threshold 80\n",
      "F1 score of the model: 88.35% for title process ratio and artist_process ratio with threshold 80\n"
     ]
    },
    {
     "name": "stderr",
     "output_type": "stream",
     "text": [
      "100%|██████████| 1674/1674 [00:47<00:00, 35.25it/s]\n"
     ]
    },
    {
     "name": "stdout",
     "output_type": "stream",
     "text": [
      "Accuracy of the model: 91.63% for title process ratio and artist_process ratio with threshold 85\n",
      "Precision of the model: 91.63% for title process ratio and artist_process ratio with threshold 85\n",
      "Recall of the model: 89.89% for title process ratio and artist_process ratio with threshold 85\n",
      "F1 score of the model: 90.75% for title process ratio and artist_process ratio with threshold 85\n"
     ]
    },
    {
     "name": "stderr",
     "output_type": "stream",
     "text": [
      "100%|██████████| 1674/1674 [00:47<00:00, 35.29it/s]\n"
     ]
    },
    {
     "name": "stdout",
     "output_type": "stream",
     "text": [
      "Accuracy of the model: 93.71% for title process ratio and artist_process ratio with threshold 90\n",
      "Precision of the model: 93.71% for title process ratio and artist_process ratio with threshold 90\n",
      "Recall of the model: 87.15% for title process ratio and artist_process ratio with threshold 90\n",
      "F1 score of the model: 90.31% for title process ratio and artist_process ratio with threshold 90\n"
     ]
    },
    {
     "name": "stderr",
     "output_type": "stream",
     "text": [
      "100%|██████████| 1674/1674 [00:47<00:00, 34.88it/s]\n"
     ]
    },
    {
     "name": "stdout",
     "output_type": "stream",
     "text": [
      "Accuracy of the model: 97.11% for title process ratio and artist_process ratio with threshold 95\n",
      "Precision of the model: 97.11% for title process ratio and artist_process ratio with threshold 95\n",
      "Recall of the model: 83.33% for title process ratio and artist_process ratio with threshold 95\n",
      "F1 score of the model: 89.70% for title process ratio and artist_process ratio with threshold 95\n"
     ]
    },
    {
     "name": "stderr",
     "output_type": "stream",
     "text": [
      "100%|██████████| 1674/1674 [00:54<00:00, 30.54it/s]\n"
     ]
    },
    {
     "name": "stdout",
     "output_type": "stream",
     "text": [
      "Accuracy of the model: 78.47% for title process ratio and artist_process partial_ratio with threshold 80\n",
      "Precision of the model: 78.47% for title process ratio and artist_process partial_ratio with threshold 80\n",
      "Recall of the model: 98.79% for title process ratio and artist_process partial_ratio with threshold 80\n",
      "F1 score of the model: 87.47% for title process ratio and artist_process partial_ratio with threshold 80\n"
     ]
    },
    {
     "name": "stderr",
     "output_type": "stream",
     "text": [
      "100%|██████████| 1674/1674 [00:54<00:00, 30.81it/s]\n"
     ]
    },
    {
     "name": "stdout",
     "output_type": "stream",
     "text": [
      "Accuracy of the model: 89.50% for title process ratio and artist_process partial_ratio with threshold 85\n",
      "Precision of the model: 89.50% for title process ratio and artist_process partial_ratio with threshold 85\n",
      "Recall of the model: 98.09% for title process ratio and artist_process partial_ratio with threshold 85\n",
      "F1 score of the model: 93.60% for title process ratio and artist_process partial_ratio with threshold 85\n"
     ]
    },
    {
     "name": "stderr",
     "output_type": "stream",
     "text": [
      "100%|██████████| 1674/1674 [00:54<00:00, 30.63it/s]\n"
     ]
    },
    {
     "name": "stdout",
     "output_type": "stream",
     "text": [
      "Accuracy of the model: 93.91% for title process ratio and artist_process partial_ratio with threshold 90\n",
      "Precision of the model: 93.91% for title process ratio and artist_process partial_ratio with threshold 90\n",
      "Recall of the model: 96.18% for title process ratio and artist_process partial_ratio with threshold 90\n",
      "F1 score of the model: 95.03% for title process ratio and artist_process partial_ratio with threshold 90\n"
     ]
    },
    {
     "name": "stderr",
     "output_type": "stream",
     "text": [
      "100%|██████████| 1674/1674 [00:53<00:00, 31.19it/s]\n"
     ]
    },
    {
     "name": "stdout",
     "output_type": "stream",
     "text": [
      "Accuracy of the model: 96.60% for title process ratio and artist_process partial_ratio with threshold 95\n",
      "Precision of the model: 96.60% for title process ratio and artist_process partial_ratio with threshold 95\n",
      "Recall of the model: 94.02% for title process ratio and artist_process partial_ratio with threshold 95\n",
      "F1 score of the model: 95.29% for title process ratio and artist_process partial_ratio with threshold 95\n"
     ]
    },
    {
     "name": "stderr",
     "output_type": "stream",
     "text": [
      "100%|██████████| 1674/1674 [00:52<00:00, 31.82it/s]\n"
     ]
    },
    {
     "name": "stdout",
     "output_type": "stream",
     "text": [
      "Accuracy of the model: 83.20% for title process ratio and artist_process token_sort_ratio with threshold 80\n",
      "Precision of the model: 83.20% for title process ratio and artist_process token_sort_ratio with threshold 80\n",
      "Recall of the model: 93.26% for title process ratio and artist_process token_sort_ratio with threshold 80\n",
      "F1 score of the model: 87.94% for title process ratio and artist_process token_sort_ratio with threshold 80\n"
     ]
    },
    {
     "name": "stderr",
     "output_type": "stream",
     "text": [
      "100%|██████████| 1674/1674 [00:54<00:00, 30.63it/s]\n"
     ]
    },
    {
     "name": "stdout",
     "output_type": "stream",
     "text": [
      "Accuracy of the model: 91.66% for title process ratio and artist_process token_sort_ratio with threshold 85\n",
      "Precision of the model: 91.66% for title process ratio and artist_process token_sort_ratio with threshold 85\n",
      "Recall of the model: 90.14% for title process ratio and artist_process token_sort_ratio with threshold 85\n",
      "F1 score of the model: 90.89% for title process ratio and artist_process token_sort_ratio with threshold 85\n"
     ]
    },
    {
     "name": "stderr",
     "output_type": "stream",
     "text": [
      "100%|██████████| 1674/1674 [00:52<00:00, 31.81it/s]\n"
     ]
    },
    {
     "name": "stdout",
     "output_type": "stream",
     "text": [
      "Accuracy of the model: 93.73% for title process ratio and artist_process token_sort_ratio with threshold 90\n",
      "Precision of the model: 93.73% for title process ratio and artist_process token_sort_ratio with threshold 90\n",
      "Recall of the model: 87.47% for title process ratio and artist_process token_sort_ratio with threshold 90\n",
      "F1 score of the model: 90.49% for title process ratio and artist_process token_sort_ratio with threshold 90\n"
     ]
    },
    {
     "name": "stderr",
     "output_type": "stream",
     "text": [
      "100%|██████████| 1674/1674 [00:51<00:00, 32.58it/s]\n"
     ]
    },
    {
     "name": "stdout",
     "output_type": "stream",
     "text": [
      "Accuracy of the model: 97.12% for title process ratio and artist_process token_sort_ratio with threshold 95\n",
      "Precision of the model: 97.12% for title process ratio and artist_process token_sort_ratio with threshold 95\n",
      "Recall of the model: 83.72% for title process ratio and artist_process token_sort_ratio with threshold 95\n",
      "F1 score of the model: 89.92% for title process ratio and artist_process token_sort_ratio with threshold 95\n"
     ]
    },
    {
     "name": "stderr",
     "output_type": "stream",
     "text": [
      "100%|██████████| 1674/1674 [00:54<00:00, 30.71it/s]\n"
     ]
    },
    {
     "name": "stdout",
     "output_type": "stream",
     "text": [
      "Accuracy of the model: 78.52% for title process ratio and artist_process token_set_ratio with threshold 80\n",
      "Precision of the model: 78.52% for title process ratio and artist_process token_set_ratio with threshold 80\n",
      "Recall of the model: 98.60% for title process ratio and artist_process token_set_ratio with threshold 80\n",
      "F1 score of the model: 87.42% for title process ratio and artist_process token_set_ratio with threshold 80\n"
     ]
    },
    {
     "name": "stderr",
     "output_type": "stream",
     "text": [
      "100%|██████████| 1674/1674 [00:54<00:00, 30.77it/s]\n"
     ]
    },
    {
     "name": "stdout",
     "output_type": "stream",
     "text": [
      "Accuracy of the model: 89.42% for title process ratio and artist_process token_set_ratio with threshold 85\n",
      "Precision of the model: 89.42% for title process ratio and artist_process token_set_ratio with threshold 85\n",
      "Recall of the model: 98.35% for title process ratio and artist_process token_set_ratio with threshold 85\n",
      "F1 score of the model: 93.67% for title process ratio and artist_process token_set_ratio with threshold 85\n"
     ]
    },
    {
     "name": "stderr",
     "output_type": "stream",
     "text": [
      "100%|██████████| 1674/1674 [00:54<00:00, 30.71it/s]\n"
     ]
    },
    {
     "name": "stdout",
     "output_type": "stream",
     "text": [
      "Accuracy of the model: 93.50% for title process ratio and artist_process token_set_ratio with threshold 90\n",
      "Precision of the model: 93.50% for title process ratio and artist_process token_set_ratio with threshold 90\n",
      "Recall of the model: 97.84% for title process ratio and artist_process token_set_ratio with threshold 90\n",
      "F1 score of the model: 95.62% for title process ratio and artist_process token_set_ratio with threshold 90\n"
     ]
    },
    {
     "name": "stderr",
     "output_type": "stream",
     "text": [
      "100%|██████████| 1674/1674 [00:55<00:00, 30.23it/s]\n"
     ]
    },
    {
     "name": "stdout",
     "output_type": "stream",
     "text": [
      "Accuracy of the model: 95.91% for title process ratio and artist_process token_set_ratio with threshold 95\n",
      "Precision of the model: 95.91% for title process ratio and artist_process token_set_ratio with threshold 95\n",
      "Recall of the model: 96.88% for title process ratio and artist_process token_set_ratio with threshold 95\n",
      "F1 score of the model: 96.39% for title process ratio and artist_process token_set_ratio with threshold 95\n"
     ]
    },
    {
     "name": "stderr",
     "output_type": "stream",
     "text": [
      "100%|██████████| 1674/1674 [00:52<00:00, 31.90it/s]\n"
     ]
    },
    {
     "name": "stdout",
     "output_type": "stream",
     "text": [
      "Accuracy of the model: 48.54% for title process partial_ratio and artist_process ratio with threshold 80\n",
      "Precision of the model: 48.54% for title process partial_ratio and artist_process ratio with threshold 80\n",
      "Recall of the model: 94.02% for title process partial_ratio and artist_process ratio with threshold 80\n",
      "F1 score of the model: 64.02% for title process partial_ratio and artist_process ratio with threshold 80\n"
     ]
    },
    {
     "name": "stderr",
     "output_type": "stream",
     "text": [
      "100%|██████████| 1674/1674 [00:52<00:00, 31.86it/s]\n"
     ]
    },
    {
     "name": "stdout",
     "output_type": "stream",
     "text": [
      "Accuracy of the model: 70.27% for title process partial_ratio and artist_process ratio with threshold 85\n",
      "Precision of the model: 70.27% for title process partial_ratio and artist_process ratio with threshold 85\n",
      "Recall of the model: 90.97% for title process partial_ratio and artist_process ratio with threshold 85\n",
      "F1 score of the model: 79.29% for title process partial_ratio and artist_process ratio with threshold 85\n"
     ]
    },
    {
     "name": "stderr",
     "output_type": "stream",
     "text": [
      "100%|██████████| 1674/1674 [00:52<00:00, 31.77it/s]\n"
     ]
    },
    {
     "name": "stdout",
     "output_type": "stream",
     "text": [
      "Accuracy of the model: 81.01% for title process partial_ratio and artist_process ratio with threshold 90\n",
      "Precision of the model: 81.01% for title process partial_ratio and artist_process ratio with threshold 90\n",
      "Recall of the model: 88.17% for title process partial_ratio and artist_process ratio with threshold 90\n",
      "F1 score of the model: 84.43% for title process partial_ratio and artist_process ratio with threshold 90\n"
     ]
    },
    {
     "name": "stderr",
     "output_type": "stream",
     "text": [
      "100%|██████████| 1674/1674 [00:52<00:00, 31.81it/s]\n"
     ]
    },
    {
     "name": "stdout",
     "output_type": "stream",
     "text": [
      "Accuracy of the model: 86.27% for title process partial_ratio and artist_process ratio with threshold 95\n",
      "Precision of the model: 86.27% for title process partial_ratio and artist_process ratio with threshold 95\n",
      "Recall of the model: 84.35% for title process partial_ratio and artist_process ratio with threshold 95\n",
      "F1 score of the model: 85.30% for title process partial_ratio and artist_process ratio with threshold 95\n"
     ]
    },
    {
     "name": "stderr",
     "output_type": "stream",
     "text": [
      "100%|██████████| 1674/1674 [00:59<00:00, 28.35it/s]\n"
     ]
    },
    {
     "name": "stdout",
     "output_type": "stream",
     "text": [
      "Accuracy of the model: 31.74% for title process partial_ratio and artist_process partial_ratio with threshold 80\n",
      "Precision of the model: 31.74% for title process partial_ratio and artist_process partial_ratio with threshold 80\n",
      "Recall of the model: 99.81% for title process partial_ratio and artist_process partial_ratio with threshold 80\n",
      "F1 score of the model: 48.17% for title process partial_ratio and artist_process partial_ratio with threshold 80\n"
     ]
    },
    {
     "name": "stderr",
     "output_type": "stream",
     "text": [
      "100%|██████████| 1674/1674 [00:57<00:00, 29.01it/s]\n"
     ]
    },
    {
     "name": "stdout",
     "output_type": "stream",
     "text": [
      "Accuracy of the model: 59.82% for title process partial_ratio and artist_process partial_ratio with threshold 85\n",
      "Precision of the model: 59.82% for title process partial_ratio and artist_process partial_ratio with threshold 85\n",
      "Recall of the model: 99.05% for title process partial_ratio and artist_process partial_ratio with threshold 85\n",
      "F1 score of the model: 74.59% for title process partial_ratio and artist_process partial_ratio with threshold 85\n"
     ]
    },
    {
     "name": "stderr",
     "output_type": "stream",
     "text": [
      "100%|██████████| 1674/1674 [00:57<00:00, 29.02it/s]\n"
     ]
    },
    {
     "name": "stdout",
     "output_type": "stream",
     "text": [
      "Accuracy of the model: 77.11% for title process partial_ratio and artist_process partial_ratio with threshold 90\n",
      "Precision of the model: 77.11% for title process partial_ratio and artist_process partial_ratio with threshold 90\n",
      "Recall of the model: 97.52% for title process partial_ratio and artist_process partial_ratio with threshold 90\n",
      "F1 score of the model: 86.12% for title process partial_ratio and artist_process partial_ratio with threshold 90\n"
     ]
    },
    {
     "name": "stderr",
     "output_type": "stream",
     "text": [
      "100%|██████████| 1674/1674 [00:58<00:00, 28.49it/s]\n"
     ]
    },
    {
     "name": "stdout",
     "output_type": "stream",
     "text": [
      "Accuracy of the model: 81.62% for title process partial_ratio and artist_process partial_ratio with threshold 95\n",
      "Precision of the model: 81.62% for title process partial_ratio and artist_process partial_ratio with threshold 95\n",
      "Recall of the model: 95.23% for title process partial_ratio and artist_process partial_ratio with threshold 95\n",
      "F1 score of the model: 87.90% for title process partial_ratio and artist_process partial_ratio with threshold 95\n"
     ]
    },
    {
     "name": "stderr",
     "output_type": "stream",
     "text": [
      "100%|██████████| 1674/1674 [00:57<00:00, 29.22it/s]\n"
     ]
    },
    {
     "name": "stdout",
     "output_type": "stream",
     "text": [
      "Accuracy of the model: 48.26% for title process partial_ratio and artist_process token_sort_ratio with threshold 80\n",
      "Precision of the model: 48.26% for title process partial_ratio and artist_process token_sort_ratio with threshold 80\n",
      "Recall of the model: 94.15% for title process partial_ratio and artist_process token_sort_ratio with threshold 80\n",
      "F1 score of the model: 63.81% for title process partial_ratio and artist_process token_sort_ratio with threshold 80\n"
     ]
    },
    {
     "name": "stderr",
     "output_type": "stream",
     "text": [
      "100%|██████████| 1674/1674 [00:58<00:00, 28.86it/s]\n"
     ]
    },
    {
     "name": "stdout",
     "output_type": "stream",
     "text": [
      "Accuracy of the model: 70.29% for title process partial_ratio and artist_process token_sort_ratio with threshold 85\n",
      "Precision of the model: 70.29% for title process partial_ratio and artist_process token_sort_ratio with threshold 85\n",
      "Recall of the model: 91.22% for title process partial_ratio and artist_process token_sort_ratio with threshold 85\n",
      "F1 score of the model: 79.40% for title process partial_ratio and artist_process token_sort_ratio with threshold 85\n"
     ]
    },
    {
     "name": "stderr",
     "output_type": "stream",
     "text": [
      "100%|██████████| 1674/1674 [00:57<00:00, 29.30it/s]\n"
     ]
    },
    {
     "name": "stdout",
     "output_type": "stream",
     "text": [
      "Accuracy of the model: 81.01% for title process partial_ratio and artist_process token_sort_ratio with threshold 90\n",
      "Precision of the model: 81.01% for title process partial_ratio and artist_process token_sort_ratio with threshold 90\n",
      "Recall of the model: 88.49% for title process partial_ratio and artist_process token_sort_ratio with threshold 90\n",
      "F1 score of the model: 84.58% for title process partial_ratio and artist_process token_sort_ratio with threshold 90\n"
     ]
    },
    {
     "name": "stderr",
     "output_type": "stream",
     "text": [
      "100%|██████████| 1674/1674 [00:57<00:00, 29.12it/s]\n"
     ]
    },
    {
     "name": "stdout",
     "output_type": "stream",
     "text": [
      "Accuracy of the model: 86.27% for title process partial_ratio and artist_process token_sort_ratio with threshold 95\n",
      "Precision of the model: 86.27% for title process partial_ratio and artist_process token_sort_ratio with threshold 95\n",
      "Recall of the model: 84.73% for title process partial_ratio and artist_process token_sort_ratio with threshold 95\n",
      "F1 score of the model: 85.49% for title process partial_ratio and artist_process token_sort_ratio with threshold 95\n"
     ]
    },
    {
     "name": "stderr",
     "output_type": "stream",
     "text": [
      "100%|██████████| 1674/1674 [01:00<00:00, 27.47it/s]\n"
     ]
    },
    {
     "name": "stdout",
     "output_type": "stream",
     "text": [
      "Accuracy of the model: 31.83% for title process partial_ratio and artist_process token_set_ratio with threshold 80\n",
      "Precision of the model: 31.83% for title process partial_ratio and artist_process token_set_ratio with threshold 80\n",
      "Recall of the model: 99.62% for title process partial_ratio and artist_process token_set_ratio with threshold 80\n",
      "F1 score of the model: 48.24% for title process partial_ratio and artist_process token_set_ratio with threshold 80\n"
     ]
    },
    {
     "name": "stderr",
     "output_type": "stream",
     "text": [
      "100%|██████████| 1674/1674 [01:00<00:00, 27.64it/s]\n"
     ]
    },
    {
     "name": "stdout",
     "output_type": "stream",
     "text": [
      "Accuracy of the model: 59.90% for title process partial_ratio and artist_process token_set_ratio with threshold 85\n",
      "Precision of the model: 59.90% for title process partial_ratio and artist_process token_set_ratio with threshold 85\n",
      "Recall of the model: 99.30% for title process partial_ratio and artist_process token_set_ratio with threshold 85\n",
      "F1 score of the model: 74.72% for title process partial_ratio and artist_process token_set_ratio with threshold 85\n"
     ]
    },
    {
     "name": "stderr",
     "output_type": "stream",
     "text": [
      "100%|██████████| 1674/1674 [01:01<00:00, 27.34it/s]\n"
     ]
    },
    {
     "name": "stdout",
     "output_type": "stream",
     "text": [
      "Accuracy of the model: 77.10% for title process partial_ratio and artist_process token_set_ratio with threshold 90\n",
      "Precision of the model: 77.10% for title process partial_ratio and artist_process token_set_ratio with threshold 90\n",
      "Recall of the model: 99.17% for title process partial_ratio and artist_process token_set_ratio with threshold 90\n",
      "F1 score of the model: 86.76% for title process partial_ratio and artist_process token_set_ratio with threshold 90\n"
     ]
    },
    {
     "name": "stderr",
     "output_type": "stream",
     "text": [
      "100%|██████████| 1674/1674 [01:00<00:00, 27.68it/s]\n"
     ]
    },
    {
     "name": "stdout",
     "output_type": "stream",
     "text": [
      "Accuracy of the model: 81.12% for title process partial_ratio and artist_process token_set_ratio with threshold 95\n",
      "Precision of the model: 81.12% for title process partial_ratio and artist_process token_set_ratio with threshold 95\n",
      "Recall of the model: 98.09% for title process partial_ratio and artist_process token_set_ratio with threshold 95\n",
      "F1 score of the model: 88.80% for title process partial_ratio and artist_process token_set_ratio with threshold 95\n"
     ]
    },
    {
     "name": "stderr",
     "output_type": "stream",
     "text": [
      "100%|██████████| 1674/1674 [00:51<00:00, 32.32it/s]\n"
     ]
    },
    {
     "name": "stdout",
     "output_type": "stream",
     "text": [
      "Accuracy of the model: 85.38% for title process token_sort_ratio and artist_process ratio with threshold 80\n",
      "Precision of the model: 85.38% for title process token_sort_ratio and artist_process ratio with threshold 80\n",
      "Recall of the model: 93.26% for title process token_sort_ratio and artist_process ratio with threshold 80\n",
      "F1 score of the model: 89.15% for title process token_sort_ratio and artist_process ratio with threshold 80\n"
     ]
    },
    {
     "name": "stderr",
     "output_type": "stream",
     "text": [
      "100%|██████████| 1674/1674 [00:50<00:00, 32.82it/s]\n"
     ]
    },
    {
     "name": "stdout",
     "output_type": "stream",
     "text": [
      "Accuracy of the model: 91.99% for title process token_sort_ratio and artist_process ratio with threshold 85\n",
      "Precision of the model: 91.99% for title process token_sort_ratio and artist_process ratio with threshold 85\n",
      "Recall of the model: 89.89% for title process token_sort_ratio and artist_process ratio with threshold 85\n",
      "F1 score of the model: 90.93% for title process token_sort_ratio and artist_process ratio with threshold 85\n"
     ]
    },
    {
     "name": "stderr",
     "output_type": "stream",
     "text": [
      "100%|██████████| 1674/1674 [00:50<00:00, 32.86it/s]\n"
     ]
    },
    {
     "name": "stdout",
     "output_type": "stream",
     "text": [
      "Accuracy of the model: 93.71% for title process token_sort_ratio and artist_process ratio with threshold 90\n",
      "Precision of the model: 93.71% for title process token_sort_ratio and artist_process ratio with threshold 90\n",
      "Recall of the model: 87.15% for title process token_sort_ratio and artist_process ratio with threshold 90\n",
      "F1 score of the model: 90.31% for title process token_sort_ratio and artist_process ratio with threshold 90\n"
     ]
    },
    {
     "name": "stderr",
     "output_type": "stream",
     "text": [
      "100%|██████████| 1674/1674 [00:52<00:00, 31.95it/s]\n"
     ]
    },
    {
     "name": "stdout",
     "output_type": "stream",
     "text": [
      "Accuracy of the model: 97.10% for title process token_sort_ratio and artist_process ratio with threshold 95\n",
      "Precision of the model: 97.10% for title process token_sort_ratio and artist_process ratio with threshold 95\n",
      "Recall of the model: 83.21% for title process token_sort_ratio and artist_process ratio with threshold 95\n",
      "F1 score of the model: 89.62% for title process token_sort_ratio and artist_process ratio with threshold 95\n"
     ]
    },
    {
     "name": "stderr",
     "output_type": "stream",
     "text": [
      "100%|██████████| 1674/1674 [01:00<00:00, 27.78it/s]\n"
     ]
    },
    {
     "name": "stdout",
     "output_type": "stream",
     "text": [
      "Accuracy of the model: 79.62% for title process token_sort_ratio and artist_process partial_ratio with threshold 80\n",
      "Precision of the model: 79.62% for title process token_sort_ratio and artist_process partial_ratio with threshold 80\n",
      "Recall of the model: 98.92% for title process token_sort_ratio and artist_process partial_ratio with threshold 80\n",
      "F1 score of the model: 88.23% for title process token_sort_ratio and artist_process partial_ratio with threshold 80\n"
     ]
    },
    {
     "name": "stderr",
     "output_type": "stream",
     "text": [
      "100%|██████████| 1674/1674 [00:57<00:00, 28.96it/s]\n"
     ]
    },
    {
     "name": "stdout",
     "output_type": "stream",
     "text": [
      "Accuracy of the model: 90.97% for title process token_sort_ratio and artist_process partial_ratio with threshold 85\n",
      "Precision of the model: 90.97% for title process token_sort_ratio and artist_process partial_ratio with threshold 85\n",
      "Recall of the model: 98.09% for title process token_sort_ratio and artist_process partial_ratio with threshold 85\n",
      "F1 score of the model: 94.40% for title process token_sort_ratio and artist_process partial_ratio with threshold 85\n"
     ]
    },
    {
     "name": "stderr",
     "output_type": "stream",
     "text": [
      "100%|██████████| 1674/1674 [00:58<00:00, 28.75it/s]\n"
     ]
    },
    {
     "name": "stdout",
     "output_type": "stream",
     "text": [
      "Accuracy of the model: 93.91% for title process token_sort_ratio and artist_process partial_ratio with threshold 90\n",
      "Precision of the model: 93.91% for title process token_sort_ratio and artist_process partial_ratio with threshold 90\n",
      "Recall of the model: 96.18% for title process token_sort_ratio and artist_process partial_ratio with threshold 90\n",
      "F1 score of the model: 95.03% for title process token_sort_ratio and artist_process partial_ratio with threshold 90\n"
     ]
    },
    {
     "name": "stderr",
     "output_type": "stream",
     "text": [
      "100%|██████████| 1674/1674 [00:59<00:00, 28.36it/s]\n"
     ]
    },
    {
     "name": "stdout",
     "output_type": "stream",
     "text": [
      "Accuracy of the model: 96.59% for title process token_sort_ratio and artist_process partial_ratio with threshold 95\n",
      "Precision of the model: 96.59% for title process token_sort_ratio and artist_process partial_ratio with threshold 95\n",
      "Recall of the model: 93.64% for title process token_sort_ratio and artist_process partial_ratio with threshold 95\n",
      "F1 score of the model: 95.09% for title process token_sort_ratio and artist_process partial_ratio with threshold 95\n"
     ]
    },
    {
     "name": "stderr",
     "output_type": "stream",
     "text": [
      "100%|██████████| 1674/1674 [00:54<00:00, 30.44it/s]\n"
     ]
    },
    {
     "name": "stdout",
     "output_type": "stream",
     "text": [
      "Accuracy of the model: 85.40% for title process token_sort_ratio and artist_process token_sort_ratio with threshold 80\n",
      "Precision of the model: 85.40% for title process token_sort_ratio and artist_process token_sort_ratio with threshold 80\n",
      "Recall of the model: 93.38% for title process token_sort_ratio and artist_process token_sort_ratio with threshold 80\n",
      "F1 score of the model: 89.21% for title process token_sort_ratio and artist_process token_sort_ratio with threshold 80\n"
     ]
    },
    {
     "name": "stderr",
     "output_type": "stream",
     "text": [
      "100%|██████████| 1674/1674 [00:52<00:00, 32.11it/s]\n"
     ]
    },
    {
     "name": "stdout",
     "output_type": "stream",
     "text": [
      "Accuracy of the model: 92.01% for title process token_sort_ratio and artist_process token_sort_ratio with threshold 85\n",
      "Precision of the model: 92.01% for title process token_sort_ratio and artist_process token_sort_ratio with threshold 85\n",
      "Recall of the model: 90.14% for title process token_sort_ratio and artist_process token_sort_ratio with threshold 85\n",
      "F1 score of the model: 91.07% for title process token_sort_ratio and artist_process token_sort_ratio with threshold 85\n"
     ]
    },
    {
     "name": "stderr",
     "output_type": "stream",
     "text": [
      "100%|██████████| 1674/1674 [00:50<00:00, 32.87it/s]\n"
     ]
    },
    {
     "name": "stdout",
     "output_type": "stream",
     "text": [
      "Accuracy of the model: 93.73% for title process token_sort_ratio and artist_process token_sort_ratio with threshold 90\n",
      "Precision of the model: 93.73% for title process token_sort_ratio and artist_process token_sort_ratio with threshold 90\n",
      "Recall of the model: 87.47% for title process token_sort_ratio and artist_process token_sort_ratio with threshold 90\n",
      "F1 score of the model: 90.49% for title process token_sort_ratio and artist_process token_sort_ratio with threshold 90\n"
     ]
    },
    {
     "name": "stderr",
     "output_type": "stream",
     "text": [
      "100%|██████████| 1674/1674 [00:50<00:00, 32.96it/s]\n"
     ]
    },
    {
     "name": "stdout",
     "output_type": "stream",
     "text": [
      "Accuracy of the model: 97.12% for title process token_sort_ratio and artist_process token_sort_ratio with threshold 95\n",
      "Precision of the model: 97.12% for title process token_sort_ratio and artist_process token_sort_ratio with threshold 95\n",
      "Recall of the model: 83.59% for title process token_sort_ratio and artist_process token_sort_ratio with threshold 95\n",
      "F1 score of the model: 89.85% for title process token_sort_ratio and artist_process token_sort_ratio with threshold 95\n"
     ]
    },
    {
     "name": "stderr",
     "output_type": "stream",
     "text": [
      "100%|██████████| 1674/1674 [00:51<00:00, 32.35it/s]\n"
     ]
    },
    {
     "name": "stdout",
     "output_type": "stream",
     "text": [
      "Accuracy of the model: 79.67% for title process token_sort_ratio and artist_process token_set_ratio with threshold 80\n",
      "Precision of the model: 79.67% for title process token_sort_ratio and artist_process token_set_ratio with threshold 80\n",
      "Recall of the model: 98.73% for title process token_sort_ratio and artist_process token_set_ratio with threshold 80\n",
      "F1 score of the model: 88.18% for title process token_sort_ratio and artist_process token_set_ratio with threshold 80\n"
     ]
    },
    {
     "name": "stderr",
     "output_type": "stream",
     "text": [
      "100%|██████████| 1674/1674 [00:52<00:00, 31.79it/s]\n"
     ]
    },
    {
     "name": "stdout",
     "output_type": "stream",
     "text": [
      "Accuracy of the model: 90.89% for title process token_sort_ratio and artist_process token_set_ratio with threshold 85\n",
      "Precision of the model: 90.89% for title process token_sort_ratio and artist_process token_set_ratio with threshold 85\n",
      "Recall of the model: 98.35% for title process token_sort_ratio and artist_process token_set_ratio with threshold 85\n",
      "F1 score of the model: 94.47% for title process token_sort_ratio and artist_process token_set_ratio with threshold 85\n"
     ]
    },
    {
     "name": "stderr",
     "output_type": "stream",
     "text": [
      "100%|██████████| 1674/1674 [01:00<00:00, 27.87it/s]\n"
     ]
    },
    {
     "name": "stdout",
     "output_type": "stream",
     "text": [
      "Accuracy of the model: 93.50% for title process token_sort_ratio and artist_process token_set_ratio with threshold 90\n",
      "Precision of the model: 93.50% for title process token_sort_ratio and artist_process token_set_ratio with threshold 90\n",
      "Recall of the model: 97.84% for title process token_sort_ratio and artist_process token_set_ratio with threshold 90\n",
      "F1 score of the model: 95.62% for title process token_sort_ratio and artist_process token_set_ratio with threshold 90\n"
     ]
    },
    {
     "name": "stderr",
     "output_type": "stream",
     "text": [
      "100%|██████████| 1674/1674 [01:03<00:00, 26.19it/s]\n"
     ]
    },
    {
     "name": "stdout",
     "output_type": "stream",
     "text": [
      "Accuracy of the model: 95.89% for title process token_sort_ratio and artist_process token_set_ratio with threshold 95\n",
      "Precision of the model: 95.89% for title process token_sort_ratio and artist_process token_set_ratio with threshold 95\n",
      "Recall of the model: 96.50% for title process token_sort_ratio and artist_process token_set_ratio with threshold 95\n",
      "F1 score of the model: 96.20% for title process token_sort_ratio and artist_process token_set_ratio with threshold 95\n"
     ]
    },
    {
     "name": "stderr",
     "output_type": "stream",
     "text": [
      "100%|██████████| 1674/1674 [00:53<00:00, 31.04it/s]\n"
     ]
    },
    {
     "name": "stdout",
     "output_type": "stream",
     "text": [
      "Accuracy of the model: 75.45% for title process token_set_ratio and artist_process ratio with threshold 80\n",
      "Precision of the model: 75.45% for title process token_set_ratio and artist_process ratio with threshold 80\n",
      "Recall of the model: 94.21% for title process token_set_ratio and artist_process ratio with threshold 80\n",
      "F1 score of the model: 83.79% for title process token_set_ratio and artist_process ratio with threshold 80\n"
     ]
    },
    {
     "name": "stderr",
     "output_type": "stream",
     "text": [
      "100%|██████████| 1674/1674 [00:53<00:00, 31.51it/s]\n"
     ]
    },
    {
     "name": "stdout",
     "output_type": "stream",
     "text": [
      "Accuracy of the model: 81.59% for title process token_set_ratio and artist_process ratio with threshold 85\n",
      "Precision of the model: 81.59% for title process token_set_ratio and artist_process ratio with threshold 85\n",
      "Recall of the model: 91.35% for title process token_set_ratio and artist_process ratio with threshold 85\n",
      "F1 score of the model: 86.19% for title process token_set_ratio and artist_process ratio with threshold 85\n"
     ]
    },
    {
     "name": "stderr",
     "output_type": "stream",
     "text": [
      "100%|██████████| 1674/1674 [00:53<00:00, 31.24it/s]\n"
     ]
    },
    {
     "name": "stdout",
     "output_type": "stream",
     "text": [
      "Accuracy of the model: 83.99% for title process token_set_ratio and artist_process ratio with threshold 90\n",
      "Precision of the model: 83.99% for title process token_set_ratio and artist_process ratio with threshold 90\n",
      "Recall of the model: 88.10% for title process token_set_ratio and artist_process ratio with threshold 90\n",
      "F1 score of the model: 86.00% for title process token_set_ratio and artist_process ratio with threshold 90\n"
     ]
    },
    {
     "name": "stderr",
     "output_type": "stream",
     "text": [
      "100%|██████████| 1674/1674 [00:49<00:00, 33.50it/s]\n"
     ]
    },
    {
     "name": "stdout",
     "output_type": "stream",
     "text": [
      "Accuracy of the model: 86.39% for title process token_set_ratio and artist_process ratio with threshold 95\n",
      "Precision of the model: 86.39% for title process token_set_ratio and artist_process ratio with threshold 95\n",
      "Recall of the model: 84.41% for title process token_set_ratio and artist_process ratio with threshold 95\n",
      "F1 score of the model: 85.39% for title process token_set_ratio and artist_process ratio with threshold 95\n"
     ]
    },
    {
     "name": "stderr",
     "output_type": "stream",
     "text": [
      "100%|██████████| 1674/1674 [01:03<00:00, 26.31it/s]\n"
     ]
    },
    {
     "name": "stdout",
     "output_type": "stream",
     "text": [
      "Accuracy of the model: 68.73% for title process token_set_ratio and artist_process partial_ratio with threshold 80\n",
      "Precision of the model: 68.73% for title process token_set_ratio and artist_process partial_ratio with threshold 80\n",
      "Recall of the model: 99.81% for title process token_set_ratio and artist_process partial_ratio with threshold 80\n",
      "F1 score of the model: 81.40% for title process token_set_ratio and artist_process partial_ratio with threshold 80\n"
     ]
    },
    {
     "name": "stderr",
     "output_type": "stream",
     "text": [
      "100%|██████████| 1674/1674 [01:00<00:00, 27.58it/s]\n"
     ]
    },
    {
     "name": "stdout",
     "output_type": "stream",
     "text": [
      "Accuracy of the model: 76.35% for title process token_set_ratio and artist_process partial_ratio with threshold 85\n",
      "Precision of the model: 76.35% for title process token_set_ratio and artist_process partial_ratio with threshold 85\n",
      "Recall of the model: 99.17% for title process token_set_ratio and artist_process partial_ratio with threshold 85\n",
      "F1 score of the model: 86.28% for title process token_set_ratio and artist_process partial_ratio with threshold 85\n"
     ]
    },
    {
     "name": "stderr",
     "output_type": "stream",
     "text": [
      "100%|██████████| 1674/1674 [00:59<00:00, 28.04it/s]\n"
     ]
    },
    {
     "name": "stdout",
     "output_type": "stream",
     "text": [
      "Accuracy of the model: 81.62% for title process token_set_ratio and artist_process partial_ratio with threshold 90\n",
      "Precision of the model: 81.62% for title process token_set_ratio and artist_process partial_ratio with threshold 90\n",
      "Recall of the model: 97.46% for title process token_set_ratio and artist_process partial_ratio with threshold 90\n",
      "F1 score of the model: 88.84% for title process token_set_ratio and artist_process partial_ratio with threshold 90\n"
     ]
    },
    {
     "name": "stderr",
     "output_type": "stream",
     "text": [
      "100%|██████████| 1674/1674 [00:59<00:00, 28.08it/s]\n"
     ]
    },
    {
     "name": "stdout",
     "output_type": "stream",
     "text": [
      "Accuracy of the model: 83.38% for title process token_set_ratio and artist_process partial_ratio with threshold 95\n",
      "Precision of the model: 83.38% for title process token_set_ratio and artist_process partial_ratio with threshold 95\n",
      "Recall of the model: 95.42% for title process token_set_ratio and artist_process partial_ratio with threshold 95\n",
      "F1 score of the model: 88.99% for title process token_set_ratio and artist_process partial_ratio with threshold 95\n"
     ]
    },
    {
     "name": "stderr",
     "output_type": "stream",
     "text": [
      "100%|██████████| 1674/1674 [00:59<00:00, 28.12it/s]\n"
     ]
    },
    {
     "name": "stdout",
     "output_type": "stream",
     "text": [
      "Accuracy of the model: 75.13% for title process token_set_ratio and artist_process token_sort_ratio with threshold 80\n",
      "Precision of the model: 75.13% for title process token_set_ratio and artist_process token_sort_ratio with threshold 80\n",
      "Recall of the model: 94.34% for title process token_set_ratio and artist_process token_sort_ratio with threshold 80\n",
      "F1 score of the model: 83.64% for title process token_set_ratio and artist_process token_sort_ratio with threshold 80\n"
     ]
    },
    {
     "name": "stderr",
     "output_type": "stream",
     "text": [
      "100%|██████████| 1674/1674 [01:01<00:00, 27.07it/s]\n"
     ]
    },
    {
     "name": "stdout",
     "output_type": "stream",
     "text": [
      "Accuracy of the model: 80.76% for title process token_set_ratio and artist_process token_sort_ratio with threshold 85\n",
      "Precision of the model: 80.76% for title process token_set_ratio and artist_process token_sort_ratio with threshold 85\n",
      "Recall of the model: 91.60% for title process token_set_ratio and artist_process token_sort_ratio with threshold 85\n",
      "F1 score of the model: 85.84% for title process token_set_ratio and artist_process token_sort_ratio with threshold 85\n"
     ]
    },
    {
     "name": "stderr",
     "output_type": "stream",
     "text": [
      "100%|██████████| 1674/1674 [00:59<00:00, 28.08it/s]\n"
     ]
    },
    {
     "name": "stdout",
     "output_type": "stream",
     "text": [
      "Accuracy of the model: 83.99% for title process token_set_ratio and artist_process token_sort_ratio with threshold 90\n",
      "Precision of the model: 83.99% for title process token_set_ratio and artist_process token_sort_ratio with threshold 90\n",
      "Recall of the model: 88.42% for title process token_set_ratio and artist_process token_sort_ratio with threshold 90\n",
      "F1 score of the model: 86.15% for title process token_set_ratio and artist_process token_sort_ratio with threshold 90\n"
     ]
    },
    {
     "name": "stderr",
     "output_type": "stream",
     "text": [
      "100%|██████████| 1674/1674 [00:58<00:00, 28.67it/s]\n"
     ]
    },
    {
     "name": "stdout",
     "output_type": "stream",
     "text": [
      "Accuracy of the model: 86.39% for title process token_set_ratio and artist_process token_sort_ratio with threshold 95\n",
      "Precision of the model: 86.39% for title process token_set_ratio and artist_process token_sort_ratio with threshold 95\n",
      "Recall of the model: 84.80% for title process token_set_ratio and artist_process token_sort_ratio with threshold 95\n",
      "F1 score of the model: 85.59% for title process token_set_ratio and artist_process token_sort_ratio with threshold 95\n"
     ]
    },
    {
     "name": "stderr",
     "output_type": "stream",
     "text": [
      "100%|██████████| 1674/1674 [01:01<00:00, 27.36it/s]\n"
     ]
    },
    {
     "name": "stdout",
     "output_type": "stream",
     "text": [
      "Accuracy of the model: 68.93% for title process token_set_ratio and artist_process token_set_ratio with threshold 80\n",
      "Precision of the model: 68.93% for title process token_set_ratio and artist_process token_set_ratio with threshold 80\n",
      "Recall of the model: 99.62% for title process token_set_ratio and artist_process token_set_ratio with threshold 80\n",
      "F1 score of the model: 81.48% for title process token_set_ratio and artist_process token_set_ratio with threshold 80\n"
     ]
    },
    {
     "name": "stderr",
     "output_type": "stream",
     "text": [
      "100%|██████████| 1674/1674 [01:00<00:00, 27.58it/s]\n"
     ]
    },
    {
     "name": "stdout",
     "output_type": "stream",
     "text": [
      "Accuracy of the model: 76.21% for title process token_set_ratio and artist_process token_set_ratio with threshold 85\n",
      "Precision of the model: 76.21% for title process token_set_ratio and artist_process token_set_ratio with threshold 85\n",
      "Recall of the model: 99.43% for title process token_set_ratio and artist_process token_set_ratio with threshold 85\n",
      "F1 score of the model: 86.28% for title process token_set_ratio and artist_process token_set_ratio with threshold 85\n"
     ]
    },
    {
     "name": "stderr",
     "output_type": "stream",
     "text": [
      "100%|██████████| 1674/1674 [01:03<00:00, 26.50it/s]\n"
     ]
    },
    {
     "name": "stdout",
     "output_type": "stream",
     "text": [
      "Accuracy of the model: 81.36% for title process token_set_ratio and artist_process token_set_ratio with threshold 90\n",
      "Precision of the model: 81.36% for title process token_set_ratio and artist_process token_set_ratio with threshold 90\n",
      "Recall of the model: 99.11% for title process token_set_ratio and artist_process token_set_ratio with threshold 90\n",
      "F1 score of the model: 89.36% for title process token_set_ratio and artist_process token_set_ratio with threshold 90\n"
     ]
    },
    {
     "name": "stderr",
     "output_type": "stream",
     "text": [
      "100%|██████████| 1674/1674 [01:02<00:00, 26.60it/s]"
     ]
    },
    {
     "name": "stdout",
     "output_type": "stream",
     "text": [
      "Accuracy of the model: 82.89% for title process token_set_ratio and artist_process token_set_ratio with threshold 95\n",
      "Precision of the model: 82.89% for title process token_set_ratio and artist_process token_set_ratio with threshold 95\n",
      "Recall of the model: 98.28% for title process token_set_ratio and artist_process token_set_ratio with threshold 95\n",
      "F1 score of the model: 89.93% for title process token_set_ratio and artist_process token_set_ratio with threshold 95\n"
     ]
    },
    {
     "name": "stderr",
     "output_type": "stream",
     "text": [
      "\n"
     ]
    },
    {
     "data": {
      "text/html": [
       "<div>\n",
       "<style scoped>\n",
       "    .dataframe tbody tr th:only-of-type {\n",
       "        vertical-align: middle;\n",
       "    }\n",
       "\n",
       "    .dataframe tbody tr th {\n",
       "        vertical-align: top;\n",
       "    }\n",
       "\n",
       "    .dataframe thead th {\n",
       "        text-align: right;\n",
       "    }\n",
       "</style>\n",
       "<table border=\"1\" class=\"dataframe\">\n",
       "  <thead>\n",
       "    <tr style=\"text-align: right;\">\n",
       "      <th></th>\n",
       "      <th>title_process</th>\n",
       "      <th>artist_process</th>\n",
       "      <th>threshold</th>\n",
       "      <th>accuracy</th>\n",
       "      <th>precision</th>\n",
       "      <th>recall</th>\n",
       "      <th>f1</th>\n",
       "    </tr>\n",
       "  </thead>\n",
       "  <tbody>\n",
       "    <tr>\n",
       "      <th>15</th>\n",
       "      <td>ratio</td>\n",
       "      <td>token_set_ratio</td>\n",
       "      <td>95</td>\n",
       "      <td>0.959068</td>\n",
       "      <td>0.959068</td>\n",
       "      <td>0.968830</td>\n",
       "      <td>0.963924</td>\n",
       "    </tr>\n",
       "    <tr>\n",
       "      <th>47</th>\n",
       "      <td>token_sort_ratio</td>\n",
       "      <td>token_set_ratio</td>\n",
       "      <td>95</td>\n",
       "      <td>0.958913</td>\n",
       "      <td>0.958913</td>\n",
       "      <td>0.965013</td>\n",
       "      <td>0.961953</td>\n",
       "    </tr>\n",
       "    <tr>\n",
       "      <th>14</th>\n",
       "      <td>ratio</td>\n",
       "      <td>token_set_ratio</td>\n",
       "      <td>90</td>\n",
       "      <td>0.934954</td>\n",
       "      <td>0.934954</td>\n",
       "      <td>0.978372</td>\n",
       "      <td>0.956170</td>\n",
       "    </tr>\n",
       "    <tr>\n",
       "      <th>46</th>\n",
       "      <td>token_sort_ratio</td>\n",
       "      <td>token_set_ratio</td>\n",
       "      <td>90</td>\n",
       "      <td>0.934954</td>\n",
       "      <td>0.934954</td>\n",
       "      <td>0.978372</td>\n",
       "      <td>0.956170</td>\n",
       "    </tr>\n",
       "    <tr>\n",
       "      <th>7</th>\n",
       "      <td>ratio</td>\n",
       "      <td>partial_ratio</td>\n",
       "      <td>95</td>\n",
       "      <td>0.966013</td>\n",
       "      <td>0.966013</td>\n",
       "      <td>0.940204</td>\n",
       "      <td>0.952934</td>\n",
       "    </tr>\n",
       "    <tr>\n",
       "      <th>...</th>\n",
       "      <td>...</td>\n",
       "      <td>...</td>\n",
       "      <td>...</td>\n",
       "      <td>...</td>\n",
       "      <td>...</td>\n",
       "      <td>...</td>\n",
       "      <td>...</td>\n",
       "    </tr>\n",
       "    <tr>\n",
       "      <th>21</th>\n",
       "      <td>partial_ratio</td>\n",
       "      <td>partial_ratio</td>\n",
       "      <td>85</td>\n",
       "      <td>0.598156</td>\n",
       "      <td>0.598156</td>\n",
       "      <td>0.990458</td>\n",
       "      <td>0.745868</td>\n",
       "    </tr>\n",
       "    <tr>\n",
       "      <th>16</th>\n",
       "      <td>partial_ratio</td>\n",
       "      <td>ratio</td>\n",
       "      <td>80</td>\n",
       "      <td>0.485386</td>\n",
       "      <td>0.485386</td>\n",
       "      <td>0.940204</td>\n",
       "      <td>0.640243</td>\n",
       "    </tr>\n",
       "    <tr>\n",
       "      <th>24</th>\n",
       "      <td>partial_ratio</td>\n",
       "      <td>token_sort_ratio</td>\n",
       "      <td>80</td>\n",
       "      <td>0.482556</td>\n",
       "      <td>0.482556</td>\n",
       "      <td>0.941476</td>\n",
       "      <td>0.638069</td>\n",
       "    </tr>\n",
       "    <tr>\n",
       "      <th>28</th>\n",
       "      <td>partial_ratio</td>\n",
       "      <td>token_set_ratio</td>\n",
       "      <td>80</td>\n",
       "      <td>0.318293</td>\n",
       "      <td>0.318293</td>\n",
       "      <td>0.996183</td>\n",
       "      <td>0.482440</td>\n",
       "    </tr>\n",
       "    <tr>\n",
       "      <th>20</th>\n",
       "      <td>partial_ratio</td>\n",
       "      <td>partial_ratio</td>\n",
       "      <td>80</td>\n",
       "      <td>0.317419</td>\n",
       "      <td>0.317419</td>\n",
       "      <td>0.998092</td>\n",
       "      <td>0.481658</td>\n",
       "    </tr>\n",
       "  </tbody>\n",
       "</table>\n",
       "<p>64 rows × 7 columns</p>\n",
       "</div>"
      ],
      "text/plain": [
       "       title_process    artist_process  threshold  accuracy  precision  \\\n",
       "15             ratio   token_set_ratio         95  0.959068   0.959068   \n",
       "47  token_sort_ratio   token_set_ratio         95  0.958913   0.958913   \n",
       "14             ratio   token_set_ratio         90  0.934954   0.934954   \n",
       "46  token_sort_ratio   token_set_ratio         90  0.934954   0.934954   \n",
       "7              ratio     partial_ratio         95  0.966013   0.966013   \n",
       "..               ...               ...        ...       ...        ...   \n",
       "21     partial_ratio     partial_ratio         85  0.598156   0.598156   \n",
       "16     partial_ratio             ratio         80  0.485386   0.485386   \n",
       "24     partial_ratio  token_sort_ratio         80  0.482556   0.482556   \n",
       "28     partial_ratio   token_set_ratio         80  0.318293   0.318293   \n",
       "20     partial_ratio     partial_ratio         80  0.317419   0.317419   \n",
       "\n",
       "      recall        f1  \n",
       "15  0.968830  0.963924  \n",
       "47  0.965013  0.961953  \n",
       "14  0.978372  0.956170  \n",
       "46  0.978372  0.956170  \n",
       "7   0.940204  0.952934  \n",
       "..       ...       ...  \n",
       "21  0.990458  0.745868  \n",
       "16  0.940204  0.640243  \n",
       "24  0.941476  0.638069  \n",
       "28  0.996183  0.482440  \n",
       "20  0.998092  0.481658  \n",
       "\n",
       "[64 rows x 7 columns]"
      ]
     },
     "execution_count": 208,
     "metadata": {},
     "output_type": "execute_result"
    }
   ],
   "source": [
    "\n",
    "results = []\n",
    "for title_process in ['ratio', 'partial_ratio', 'token_sort_ratio', 'token_set_ratio']:\n",
    "    for artist_process in ['ratio', 'partial_ratio', 'token_sort_ratio', 'token_set_ratio']:\n",
    "        for THESHOLD in [80, 85, 90, 95]:\n",
    "            test_data = pd.read_csv('test_data.csv').set_index('target_id')\n",
    "\n",
    "            for row in tqdm(tracks.index):\n",
    "\n",
    "                clean_title = tracks.loc[row, 'clean_title']\n",
    "                clean_artist = tracks.loc[row, 'clean_artist']\n",
    "                prediction = fuzzy_match(clean_title, clean_artist, THESHOLD, title_process, artist_process)    \n",
    "                prediction = [x for x in prediction if x != row]\n",
    "\n",
    "                answer = json.loads(test_data.loc[row,'match_id'])\n",
    "\n",
    "                # true positive is the number of track names in the prediction that are also in the answer\n",
    "                test_data.loc[row,'true_positive'] = len([i for i in prediction if i in answer])\n",
    "\n",
    "                # false positive is the number of track names in the prediction that are not in the answer\n",
    "                test_data.loc[row,'false_positive'] = len([i for i in prediction if i not in answer])\n",
    "\n",
    "                # false negative is the number of tracks in the answer that are not in the prediction\n",
    "                test_data.loc[row,'false_negative'] = len([i for i in answer if i not in prediction])\n",
    "\n",
    "                test_data.loc[row,'total_predictions'] = len(prediction)\n",
    "                    \n",
    "                    \n",
    "            # calculate the accuracy of the model\n",
    "            acc = test_data['true_positive'].sum() / (test_data['total_predictions'].sum())\n",
    "\n",
    "            print(f'Accuracy of the model: {acc:.2%} for title process {title_process} and artist_process {artist_process} with threshold {THESHOLD}')\n",
    "\n",
    "            # calculate the precision of the model\n",
    "            precision = test_data['true_positive'].sum() / (test_data['true_positive'].sum() + test_data['false_positive'].sum())\n",
    "\n",
    "            print(f'Precision of the model: {precision:.2%} for title process {title_process} and artist_process {artist_process} with threshold {THESHOLD}')\n",
    "\n",
    "            # calculate the recall of the model\n",
    "            recall = test_data['true_positive'].sum() / (test_data['true_positive'].sum() + test_data['false_negative'].sum())\n",
    "\n",
    "            print(f'Recall of the model: {recall:.2%} for title process {title_process} and artist_process {artist_process} with threshold {THESHOLD}')\n",
    "\n",
    "            # calculate the f1 score of the model\n",
    "            f1 = 2 * (precision * recall) / (precision + recall)\n",
    "\n",
    "            print(f'F1 score of the model: {f1:.2%} for title process {title_process} and artist_process {artist_process} with threshold {THESHOLD}')\n",
    "\n",
    "            results.append({\"title_process\":title_process, \"artist_process\":artist_process, \"threshold\":THESHOLD, \"accuracy\":acc, \"precision\":precision, \"recall\":recall, \"f1\":f1})\n",
    "\n",
    "results = pd.DataFrame(results)\n",
    "results.sort_values('f1', ascending=False)"
   ]
  },
  {
   "cell_type": "code",
   "execution_count": 11,
   "metadata": {},
   "outputs": [
    {
     "name": "stderr",
     "output_type": "stream",
     "text": [
      "100%|██████████| 1674/1674 [00:54<00:00, 30.92it/s]\n"
     ]
    },
    {
     "name": "stdout",
     "output_type": "stream",
     "text": [
      "Accuracy of the model: 93.30% for title process ratio and artist_process token_set_ratio with threshold 95\n",
      "Precision of the model: 93.30% for title process ratio and artist_process token_set_ratio with threshold 95\n",
      "Recall of the model: 97.39% for title process ratio and artist_process token_set_ratio with threshold 95\n",
      "F1 score of the model: 95.30% for title process ratio and artist_process token_set_ratio with threshold 95\n"
     ]
    }
   ],
   "source": [
    "# the model with the highest f1 score of 96% is the one with the following parameters\n",
    "title_process = 'ratio'\n",
    "artist_process = 'token_set_ratio'\n",
    "THESHOLD = 95\n",
    "\n",
    "test_data = pd.read_csv('test_data.csv').set_index('target_id')\n",
    "\n",
    "for row in tqdm(tracks.index):\n",
    "\n",
    "    clean_title = tracks.loc[row, 'clean_title']\n",
    "    clean_artist = tracks.loc[row, 'clean_artist']\n",
    "    prediction = fuzzy_match(clean_title, clean_artist, THESHOLD, title_process, artist_process)    \n",
    "    prediction = [x for x in prediction if x != row]\n",
    "\n",
    "    answer = json.loads(test_data.loc[row,'match_id'])\n",
    "\n",
    "    # true positive is the number of track names in the prediction that are also in the answer\n",
    "    test_data.loc[row,'true_positive'] = len([i for i in prediction if i in answer])\n",
    "\n",
    "    # false positive is the number of track names in the prediction that are not in the answer\n",
    "    test_data.loc[row,'false_positive'] = len([i for i in prediction if i not in answer])\n",
    "\n",
    "    # false negative is the number of tracks in the answer that are not in the prediction\n",
    "    test_data.loc[row,'false_negative'] = len([i for i in answer if i not in prediction])\n",
    "\n",
    "    test_data.loc[row,'total_predictions'] = len(prediction)\n",
    "        \n",
    "        \n",
    "# calculate the accuracy of the model\n",
    "acc = test_data['true_positive'].sum() / (test_data['total_predictions'].sum())\n",
    "\n",
    "print(f'Accuracy of the model: {acc:.2%} for title process {title_process} and artist_process {artist_process} with threshold {THESHOLD}')\n",
    "\n",
    "# calculate the precision of the model\n",
    "precision = test_data['true_positive'].sum() / (test_data['true_positive'].sum() + test_data['false_positive'].sum())\n",
    "\n",
    "print(f'Precision of the model: {precision:.2%} for title process {title_process} and artist_process {artist_process} with threshold {THESHOLD}')\n",
    "\n",
    "# calculate the recall of the model\n",
    "recall = test_data['true_positive'].sum() / (test_data['true_positive'].sum() + test_data['false_negative'].sum())\n",
    "\n",
    "print(f'Recall of the model: {recall:.2%} for title process {title_process} and artist_process {artist_process} with threshold {THESHOLD}')\n",
    "\n",
    "# calculate the f1 score of the model\n",
    "f1 = 2 * (precision * recall) / (precision + recall)\n",
    "\n",
    "print(f'F1 score of the model: {f1:.2%} for title process {title_process} and artist_process {artist_process} with threshold {THESHOLD}')\n",
    "\n"
   ]
  },
  {
   "cell_type": "code",
   "execution_count": 12,
   "metadata": {},
   "outputs": [
    {
     "name": "stderr",
     "output_type": "stream",
     "text": [
      "C:\\Users\\Cameron\\AppData\\Local\\Temp\\ipykernel_2264\\900600116.py:2: RuntimeWarning: invalid value encountered in double_scalars\n",
      "  precision = test_data.loc[row, 'true_positive'] / (test_data.loc[row, 'true_positive'] + test_data.loc[row, 'false_positive'])\n",
      "C:\\Users\\Cameron\\AppData\\Local\\Temp\\ipykernel_2264\\900600116.py:4: RuntimeWarning: invalid value encountered in double_scalars\n",
      "  f1 = 2 * (precision * recall) / (precision + recall)\n"
     ]
    }
   ],
   "source": [
    "for row in test_data.index:\n",
    "    precision = test_data.loc[row, 'true_positive'] / (test_data.loc[row, 'true_positive'] + test_data.loc[row, 'false_positive'])\n",
    "    recall = test_data.loc[row, 'true_positive'] / (test_data.loc[row, 'true_positive'] + test_data.loc[row, 'false_negative'])\n",
    "    f1 = 2 * (precision * recall) / (precision + recall)\n",
    "    test_data.loc[row, 'precision'] = precision\n",
    "    test_data.loc[row, 'recall'] = recall\n",
    "    test_data.loc[row, 'f1'] = f1"
   ]
  },
  {
   "cell_type": "code",
   "execution_count": 13,
   "metadata": {},
   "outputs": [
    {
     "data": {
      "text/html": [
       "<div>\n",
       "<style scoped>\n",
       "    .dataframe tbody tr th:only-of-type {\n",
       "        vertical-align: middle;\n",
       "    }\n",
       "\n",
       "    .dataframe tbody tr th {\n",
       "        vertical-align: top;\n",
       "    }\n",
       "\n",
       "    .dataframe thead th {\n",
       "        text-align: right;\n",
       "    }\n",
       "</style>\n",
       "<table border=\"1\" class=\"dataframe\">\n",
       "  <thead>\n",
       "    <tr style=\"text-align: right;\">\n",
       "      <th></th>\n",
       "      <th>match_id</th>\n",
       "      <th>true_positive</th>\n",
       "      <th>false_positive</th>\n",
       "      <th>false_negative</th>\n",
       "      <th>total_predictions</th>\n",
       "      <th>precision</th>\n",
       "      <th>recall</th>\n",
       "      <th>f1</th>\n",
       "    </tr>\n",
       "    <tr>\n",
       "      <th>target_id</th>\n",
       "      <th></th>\n",
       "      <th></th>\n",
       "      <th></th>\n",
       "      <th></th>\n",
       "      <th></th>\n",
       "      <th></th>\n",
       "      <th></th>\n",
       "      <th></th>\n",
       "    </tr>\n",
       "  </thead>\n",
       "  <tbody>\n",
       "    <tr>\n",
       "      <th>70001</th>\n",
       "      <td>[4166386]</td>\n",
       "      <td>1.0</td>\n",
       "      <td>0.0</td>\n",
       "      <td>0.0</td>\n",
       "      <td>1.0</td>\n",
       "      <td>1.0</td>\n",
       "      <td>1.0</td>\n",
       "      <td>1.0</td>\n",
       "    </tr>\n",
       "    <tr>\n",
       "      <th>70009</th>\n",
       "      <td>[1982018]</td>\n",
       "      <td>1.0</td>\n",
       "      <td>0.0</td>\n",
       "      <td>0.0</td>\n",
       "      <td>1.0</td>\n",
       "      <td>1.0</td>\n",
       "      <td>1.0</td>\n",
       "      <td>1.0</td>\n",
       "    </tr>\n",
       "    <tr>\n",
       "      <th>70010</th>\n",
       "      <td>[1364087]</td>\n",
       "      <td>1.0</td>\n",
       "      <td>0.0</td>\n",
       "      <td>0.0</td>\n",
       "      <td>1.0</td>\n",
       "      <td>1.0</td>\n",
       "      <td>1.0</td>\n",
       "      <td>1.0</td>\n",
       "    </tr>\n",
       "    <tr>\n",
       "      <th>70035</th>\n",
       "      <td>[16878979]</td>\n",
       "      <td>1.0</td>\n",
       "      <td>0.0</td>\n",
       "      <td>0.0</td>\n",
       "      <td>1.0</td>\n",
       "      <td>1.0</td>\n",
       "      <td>1.0</td>\n",
       "      <td>1.0</td>\n",
       "    </tr>\n",
       "    <tr>\n",
       "      <th>70040</th>\n",
       "      <td>[4165828]</td>\n",
       "      <td>1.0</td>\n",
       "      <td>0.0</td>\n",
       "      <td>0.0</td>\n",
       "      <td>1.0</td>\n",
       "      <td>1.0</td>\n",
       "      <td>1.0</td>\n",
       "      <td>1.0</td>\n",
       "    </tr>\n",
       "    <tr>\n",
       "      <th>...</th>\n",
       "      <td>...</td>\n",
       "      <td>...</td>\n",
       "      <td>...</td>\n",
       "      <td>...</td>\n",
       "      <td>...</td>\n",
       "      <td>...</td>\n",
       "      <td>...</td>\n",
       "      <td>...</td>\n",
       "    </tr>\n",
       "    <tr>\n",
       "      <th>1732671</th>\n",
       "      <td>[73053]</td>\n",
       "      <td>1.0</td>\n",
       "      <td>0.0</td>\n",
       "      <td>0.0</td>\n",
       "      <td>1.0</td>\n",
       "      <td>1.0</td>\n",
       "      <td>1.0</td>\n",
       "      <td>1.0</td>\n",
       "    </tr>\n",
       "    <tr>\n",
       "      <th>11946049</th>\n",
       "      <td>[73061]</td>\n",
       "      <td>0.0</td>\n",
       "      <td>0.0</td>\n",
       "      <td>1.0</td>\n",
       "      <td>0.0</td>\n",
       "      <td>NaN</td>\n",
       "      <td>0.0</td>\n",
       "      <td>NaN</td>\n",
       "    </tr>\n",
       "    <tr>\n",
       "      <th>3369917</th>\n",
       "      <td>[73071]</td>\n",
       "      <td>0.0</td>\n",
       "      <td>0.0</td>\n",
       "      <td>1.0</td>\n",
       "      <td>0.0</td>\n",
       "      <td>NaN</td>\n",
       "      <td>0.0</td>\n",
       "      <td>NaN</td>\n",
       "    </tr>\n",
       "    <tr>\n",
       "      <th>8386151</th>\n",
       "      <td>[73086]</td>\n",
       "      <td>1.0</td>\n",
       "      <td>0.0</td>\n",
       "      <td>0.0</td>\n",
       "      <td>1.0</td>\n",
       "      <td>1.0</td>\n",
       "      <td>1.0</td>\n",
       "      <td>1.0</td>\n",
       "    </tr>\n",
       "    <tr>\n",
       "      <th>6357906</th>\n",
       "      <td>[73114]</td>\n",
       "      <td>1.0</td>\n",
       "      <td>0.0</td>\n",
       "      <td>0.0</td>\n",
       "      <td>1.0</td>\n",
       "      <td>1.0</td>\n",
       "      <td>1.0</td>\n",
       "      <td>1.0</td>\n",
       "    </tr>\n",
       "  </tbody>\n",
       "</table>\n",
       "<p>1674 rows × 8 columns</p>\n",
       "</div>"
      ],
      "text/plain": [
       "             match_id  true_positive  false_positive  false_negative  \\\n",
       "target_id                                                              \n",
       "70001       [4166386]            1.0             0.0             0.0   \n",
       "70009       [1982018]            1.0             0.0             0.0   \n",
       "70010       [1364087]            1.0             0.0             0.0   \n",
       "70035      [16878979]            1.0             0.0             0.0   \n",
       "70040       [4165828]            1.0             0.0             0.0   \n",
       "...               ...            ...             ...             ...   \n",
       "1732671       [73053]            1.0             0.0             0.0   \n",
       "11946049      [73061]            0.0             0.0             1.0   \n",
       "3369917       [73071]            0.0             0.0             1.0   \n",
       "8386151       [73086]            1.0             0.0             0.0   \n",
       "6357906       [73114]            1.0             0.0             0.0   \n",
       "\n",
       "           total_predictions  precision  recall   f1  \n",
       "target_id                                             \n",
       "70001                    1.0        1.0     1.0  1.0  \n",
       "70009                    1.0        1.0     1.0  1.0  \n",
       "70010                    1.0        1.0     1.0  1.0  \n",
       "70035                    1.0        1.0     1.0  1.0  \n",
       "70040                    1.0        1.0     1.0  1.0  \n",
       "...                      ...        ...     ...  ...  \n",
       "1732671                  1.0        1.0     1.0  1.0  \n",
       "11946049                 0.0        NaN     0.0  NaN  \n",
       "3369917                  0.0        NaN     0.0  NaN  \n",
       "8386151                  1.0        1.0     1.0  1.0  \n",
       "6357906                  1.0        1.0     1.0  1.0  \n",
       "\n",
       "[1674 rows x 8 columns]"
      ]
     },
     "execution_count": 13,
     "metadata": {},
     "output_type": "execute_result"
    }
   ],
   "source": [
    "test_data"
   ]
  },
  {
   "cell_type": "code",
   "execution_count": 14,
   "metadata": {},
   "outputs": [
    {
     "data": {
      "text/html": [
       "<div>\n",
       "<style scoped>\n",
       "    .dataframe tbody tr th:only-of-type {\n",
       "        vertical-align: middle;\n",
       "    }\n",
       "\n",
       "    .dataframe tbody tr th {\n",
       "        vertical-align: top;\n",
       "    }\n",
       "\n",
       "    .dataframe thead th {\n",
       "        text-align: right;\n",
       "    }\n",
       "</style>\n",
       "<table border=\"1\" class=\"dataframe\">\n",
       "  <thead>\n",
       "    <tr style=\"text-align: right;\">\n",
       "      <th></th>\n",
       "      <th>match_id</th>\n",
       "      <th>true_positive</th>\n",
       "      <th>false_positive</th>\n",
       "      <th>false_negative</th>\n",
       "      <th>total_predictions</th>\n",
       "      <th>precision</th>\n",
       "      <th>recall</th>\n",
       "      <th>f1</th>\n",
       "    </tr>\n",
       "    <tr>\n",
       "      <th>target_id</th>\n",
       "      <th></th>\n",
       "      <th></th>\n",
       "      <th></th>\n",
       "      <th></th>\n",
       "      <th></th>\n",
       "      <th></th>\n",
       "      <th></th>\n",
       "      <th></th>\n",
       "    </tr>\n",
       "  </thead>\n",
       "  <tbody>\n",
       "    <tr>\n",
       "      <th>6815911</th>\n",
       "      <td>[70519, 3865574]</td>\n",
       "      <td>2.0</td>\n",
       "      <td>9.0</td>\n",
       "      <td>0.0</td>\n",
       "      <td>11.0</td>\n",
       "      <td>0.181818</td>\n",
       "      <td>1.00</td>\n",
       "      <td>0.307692</td>\n",
       "    </tr>\n",
       "    <tr>\n",
       "      <th>70519</th>\n",
       "      <td>[6815911, 3865574]</td>\n",
       "      <td>2.0</td>\n",
       "      <td>9.0</td>\n",
       "      <td>0.0</td>\n",
       "      <td>11.0</td>\n",
       "      <td>0.181818</td>\n",
       "      <td>1.00</td>\n",
       "      <td>0.307692</td>\n",
       "    </tr>\n",
       "    <tr>\n",
       "      <th>3865574</th>\n",
       "      <td>[70519, 6815911]</td>\n",
       "      <td>2.0</td>\n",
       "      <td>9.0</td>\n",
       "      <td>0.0</td>\n",
       "      <td>11.0</td>\n",
       "      <td>0.181818</td>\n",
       "      <td>1.00</td>\n",
       "      <td>0.307692</td>\n",
       "    </tr>\n",
       "    <tr>\n",
       "      <th>5644219</th>\n",
       "      <td>[72592, 10799206, 8126306, 1482528]</td>\n",
       "      <td>1.0</td>\n",
       "      <td>0.0</td>\n",
       "      <td>3.0</td>\n",
       "      <td>1.0</td>\n",
       "      <td>1.000000</td>\n",
       "      <td>0.25</td>\n",
       "      <td>0.400000</td>\n",
       "    </tr>\n",
       "    <tr>\n",
       "      <th>8126306</th>\n",
       "      <td>[72592, 10799206, 5644219, 1482528]</td>\n",
       "      <td>1.0</td>\n",
       "      <td>0.0</td>\n",
       "      <td>3.0</td>\n",
       "      <td>1.0</td>\n",
       "      <td>1.000000</td>\n",
       "      <td>0.25</td>\n",
       "      <td>0.400000</td>\n",
       "    </tr>\n",
       "    <tr>\n",
       "      <th>72592</th>\n",
       "      <td>[10799206, 8126306, 5644219, 1482528]</td>\n",
       "      <td>1.0</td>\n",
       "      <td>0.0</td>\n",
       "      <td>3.0</td>\n",
       "      <td>1.0</td>\n",
       "      <td>1.000000</td>\n",
       "      <td>0.25</td>\n",
       "      <td>0.400000</td>\n",
       "    </tr>\n",
       "    <tr>\n",
       "      <th>72142</th>\n",
       "      <td>[8459677]</td>\n",
       "      <td>1.0</td>\n",
       "      <td>3.0</td>\n",
       "      <td>0.0</td>\n",
       "      <td>4.0</td>\n",
       "      <td>0.250000</td>\n",
       "      <td>1.00</td>\n",
       "      <td>0.400000</td>\n",
       "    </tr>\n",
       "    <tr>\n",
       "      <th>8459677</th>\n",
       "      <td>[72142]</td>\n",
       "      <td>1.0</td>\n",
       "      <td>3.0</td>\n",
       "      <td>0.0</td>\n",
       "      <td>4.0</td>\n",
       "      <td>0.250000</td>\n",
       "      <td>1.00</td>\n",
       "      <td>0.400000</td>\n",
       "    </tr>\n",
       "    <tr>\n",
       "      <th>1482528</th>\n",
       "      <td>[72592, 10799206, 8126306, 5644219]</td>\n",
       "      <td>1.0</td>\n",
       "      <td>0.0</td>\n",
       "      <td>3.0</td>\n",
       "      <td>1.0</td>\n",
       "      <td>1.000000</td>\n",
       "      <td>0.25</td>\n",
       "      <td>0.400000</td>\n",
       "    </tr>\n",
       "    <tr>\n",
       "      <th>1704648</th>\n",
       "      <td>[70447, 1818170]</td>\n",
       "      <td>1.0</td>\n",
       "      <td>2.0</td>\n",
       "      <td>1.0</td>\n",
       "      <td>3.0</td>\n",
       "      <td>0.333333</td>\n",
       "      <td>0.50</td>\n",
       "      <td>0.400000</td>\n",
       "    </tr>\n",
       "    <tr>\n",
       "      <th>6815777</th>\n",
       "      <td>[70518, 13111254, 1015119]</td>\n",
       "      <td>3.0</td>\n",
       "      <td>8.0</td>\n",
       "      <td>0.0</td>\n",
       "      <td>11.0</td>\n",
       "      <td>0.272727</td>\n",
       "      <td>1.00</td>\n",
       "      <td>0.428571</td>\n",
       "    </tr>\n",
       "    <tr>\n",
       "      <th>13111254</th>\n",
       "      <td>[70518, 6815777, 1015119]</td>\n",
       "      <td>3.0</td>\n",
       "      <td>8.0</td>\n",
       "      <td>0.0</td>\n",
       "      <td>11.0</td>\n",
       "      <td>0.272727</td>\n",
       "      <td>1.00</td>\n",
       "      <td>0.428571</td>\n",
       "    </tr>\n",
       "    <tr>\n",
       "      <th>70518</th>\n",
       "      <td>[13111254, 6815777, 1015119]</td>\n",
       "      <td>3.0</td>\n",
       "      <td>8.0</td>\n",
       "      <td>0.0</td>\n",
       "      <td>11.0</td>\n",
       "      <td>0.272727</td>\n",
       "      <td>1.00</td>\n",
       "      <td>0.428571</td>\n",
       "    </tr>\n",
       "    <tr>\n",
       "      <th>1015119</th>\n",
       "      <td>[70518, 13111254, 6815777]</td>\n",
       "      <td>3.0</td>\n",
       "      <td>8.0</td>\n",
       "      <td>0.0</td>\n",
       "      <td>11.0</td>\n",
       "      <td>0.272727</td>\n",
       "      <td>1.00</td>\n",
       "      <td>0.428571</td>\n",
       "    </tr>\n",
       "    <tr>\n",
       "      <th>70521</th>\n",
       "      <td>[2360345, 3305489]</td>\n",
       "      <td>2.0</td>\n",
       "      <td>5.0</td>\n",
       "      <td>0.0</td>\n",
       "      <td>7.0</td>\n",
       "      <td>0.285714</td>\n",
       "      <td>1.00</td>\n",
       "      <td>0.444444</td>\n",
       "    </tr>\n",
       "    <tr>\n",
       "      <th>2360345</th>\n",
       "      <td>[70521, 3305489]</td>\n",
       "      <td>2.0</td>\n",
       "      <td>5.0</td>\n",
       "      <td>0.0</td>\n",
       "      <td>7.0</td>\n",
       "      <td>0.285714</td>\n",
       "      <td>1.00</td>\n",
       "      <td>0.444444</td>\n",
       "    </tr>\n",
       "    <tr>\n",
       "      <th>3305489</th>\n",
       "      <td>[70521, 2360345]</td>\n",
       "      <td>2.0</td>\n",
       "      <td>5.0</td>\n",
       "      <td>0.0</td>\n",
       "      <td>7.0</td>\n",
       "      <td>0.285714</td>\n",
       "      <td>1.00</td>\n",
       "      <td>0.444444</td>\n",
       "    </tr>\n",
       "    <tr>\n",
       "      <th>1115083</th>\n",
       "      <td>[72945]</td>\n",
       "      <td>1.0</td>\n",
       "      <td>2.0</td>\n",
       "      <td>0.0</td>\n",
       "      <td>3.0</td>\n",
       "      <td>0.333333</td>\n",
       "      <td>1.00</td>\n",
       "      <td>0.500000</td>\n",
       "    </tr>\n",
       "    <tr>\n",
       "      <th>3798201</th>\n",
       "      <td>[70401]</td>\n",
       "      <td>1.0</td>\n",
       "      <td>2.0</td>\n",
       "      <td>0.0</td>\n",
       "      <td>3.0</td>\n",
       "      <td>0.333333</td>\n",
       "      <td>1.00</td>\n",
       "      <td>0.500000</td>\n",
       "    </tr>\n",
       "    <tr>\n",
       "      <th>70401</th>\n",
       "      <td>[3798201]</td>\n",
       "      <td>1.0</td>\n",
       "      <td>2.0</td>\n",
       "      <td>0.0</td>\n",
       "      <td>3.0</td>\n",
       "      <td>0.333333</td>\n",
       "      <td>1.00</td>\n",
       "      <td>0.500000</td>\n",
       "    </tr>\n",
       "  </tbody>\n",
       "</table>\n",
       "</div>"
      ],
      "text/plain": [
       "                                        match_id  true_positive  \\\n",
       "target_id                                                         \n",
       "6815911                         [70519, 3865574]            2.0   \n",
       "70519                         [6815911, 3865574]            2.0   \n",
       "3865574                         [70519, 6815911]            2.0   \n",
       "5644219      [72592, 10799206, 8126306, 1482528]            1.0   \n",
       "8126306      [72592, 10799206, 5644219, 1482528]            1.0   \n",
       "72592      [10799206, 8126306, 5644219, 1482528]            1.0   \n",
       "72142                                  [8459677]            1.0   \n",
       "8459677                                  [72142]            1.0   \n",
       "1482528      [72592, 10799206, 8126306, 5644219]            1.0   \n",
       "1704648                         [70447, 1818170]            1.0   \n",
       "6815777               [70518, 13111254, 1015119]            3.0   \n",
       "13111254               [70518, 6815777, 1015119]            3.0   \n",
       "70518               [13111254, 6815777, 1015119]            3.0   \n",
       "1015119               [70518, 13111254, 6815777]            3.0   \n",
       "70521                         [2360345, 3305489]            2.0   \n",
       "2360345                         [70521, 3305489]            2.0   \n",
       "3305489                         [70521, 2360345]            2.0   \n",
       "1115083                                  [72945]            1.0   \n",
       "3798201                                  [70401]            1.0   \n",
       "70401                                  [3798201]            1.0   \n",
       "\n",
       "           false_positive  false_negative  total_predictions  precision  \\\n",
       "target_id                                                                 \n",
       "6815911               9.0             0.0               11.0   0.181818   \n",
       "70519                 9.0             0.0               11.0   0.181818   \n",
       "3865574               9.0             0.0               11.0   0.181818   \n",
       "5644219               0.0             3.0                1.0   1.000000   \n",
       "8126306               0.0             3.0                1.0   1.000000   \n",
       "72592                 0.0             3.0                1.0   1.000000   \n",
       "72142                 3.0             0.0                4.0   0.250000   \n",
       "8459677               3.0             0.0                4.0   0.250000   \n",
       "1482528               0.0             3.0                1.0   1.000000   \n",
       "1704648               2.0             1.0                3.0   0.333333   \n",
       "6815777               8.0             0.0               11.0   0.272727   \n",
       "13111254              8.0             0.0               11.0   0.272727   \n",
       "70518                 8.0             0.0               11.0   0.272727   \n",
       "1015119               8.0             0.0               11.0   0.272727   \n",
       "70521                 5.0             0.0                7.0   0.285714   \n",
       "2360345               5.0             0.0                7.0   0.285714   \n",
       "3305489               5.0             0.0                7.0   0.285714   \n",
       "1115083               2.0             0.0                3.0   0.333333   \n",
       "3798201               2.0             0.0                3.0   0.333333   \n",
       "70401                 2.0             0.0                3.0   0.333333   \n",
       "\n",
       "           recall        f1  \n",
       "target_id                    \n",
       "6815911      1.00  0.307692  \n",
       "70519        1.00  0.307692  \n",
       "3865574      1.00  0.307692  \n",
       "5644219      0.25  0.400000  \n",
       "8126306      0.25  0.400000  \n",
       "72592        0.25  0.400000  \n",
       "72142        1.00  0.400000  \n",
       "8459677      1.00  0.400000  \n",
       "1482528      0.25  0.400000  \n",
       "1704648      0.50  0.400000  \n",
       "6815777      1.00  0.428571  \n",
       "13111254     1.00  0.428571  \n",
       "70518        1.00  0.428571  \n",
       "1015119      1.00  0.428571  \n",
       "70521        1.00  0.444444  \n",
       "2360345      1.00  0.444444  \n",
       "3305489      1.00  0.444444  \n",
       "1115083      1.00  0.500000  \n",
       "3798201      1.00  0.500000  \n",
       "70401        1.00  0.500000  "
      ]
     },
     "execution_count": 14,
     "metadata": {},
     "output_type": "execute_result"
    }
   ],
   "source": [
    "test_data.sort_values('f1', ascending=True).head(20)"
   ]
  },
  {
   "cell_type": "code",
   "execution_count": 15,
   "metadata": {},
   "outputs": [
    {
     "data": {
      "text/plain": [
       "name        Elektro - Nicola Fasano South Beach Radio Mix\n",
       "artist                    Mr. Gee, Nicola Fasano, Outwork\n",
       "platform                                     SpotifyTrack\n",
       "Name: 5644219, dtype: object"
      ]
     },
     "execution_count": 15,
     "metadata": {},
     "output_type": "execute_result"
    }
   ],
   "source": [
    "row = 5644219\n",
    "\n",
    "pd.read_csv('track_name_list.csv').set_index('id').loc[row]"
   ]
  },
  {
   "cell_type": "code",
   "execution_count": 16,
   "metadata": {},
   "outputs": [
    {
     "data": {
      "text/html": [
       "<div>\n",
       "<style scoped>\n",
       "    .dataframe tbody tr th:only-of-type {\n",
       "        vertical-align: middle;\n",
       "    }\n",
       "\n",
       "    .dataframe tbody tr th {\n",
       "        vertical-align: top;\n",
       "    }\n",
       "\n",
       "    .dataframe thead th {\n",
       "        text-align: right;\n",
       "    }\n",
       "</style>\n",
       "<table border=\"1\" class=\"dataframe\">\n",
       "  <thead>\n",
       "    <tr style=\"text-align: right;\">\n",
       "      <th></th>\n",
       "      <th>name</th>\n",
       "      <th>artist</th>\n",
       "      <th>platform</th>\n",
       "      <th>title</th>\n",
       "      <th>mood</th>\n",
       "      <th>clean_title</th>\n",
       "      <th>clean_artist</th>\n",
       "      <th>remixer</th>\n",
       "      <th>version</th>\n",
       "      <th>featuredArtist</th>\n",
       "      <th>subTitle</th>\n",
       "      <th>quality</th>\n",
       "    </tr>\n",
       "    <tr>\n",
       "      <th>id</th>\n",
       "      <th></th>\n",
       "      <th></th>\n",
       "      <th></th>\n",
       "      <th></th>\n",
       "      <th></th>\n",
       "      <th></th>\n",
       "      <th></th>\n",
       "      <th></th>\n",
       "      <th></th>\n",
       "      <th></th>\n",
       "      <th></th>\n",
       "      <th></th>\n",
       "    </tr>\n",
       "  </thead>\n",
       "  <tbody>\n",
       "    <tr>\n",
       "      <th>72592</th>\n",
       "      <td>Elektro (Nicola Fasano South Beach Radio Mix) ...</td>\n",
       "      <td>[Mister Gee, Mr. Gee, Outwork]</td>\n",
       "      <td>Track</td>\n",
       "      <td>[Elektro]</td>\n",
       "      <td>NaN</td>\n",
       "      <td>elektro nicola fasano south beach nicola fasan...</td>\n",
       "      <td>mister gee mr. gee outwork</td>\n",
       "      <td>[Nicola Fasano, Nicola Fasano South Beach]</td>\n",
       "      <td>[Radio]</td>\n",
       "      <td>NaN</td>\n",
       "      <td>NaN</td>\n",
       "      <td>NaN</td>\n",
       "    </tr>\n",
       "    <tr>\n",
       "      <th>10799206</th>\n",
       "      <td>Elektro - Feat. Mr Gee</td>\n",
       "      <td>[Nicola Fasano, Outwork]</td>\n",
       "      <td>SpotifyTrack</td>\n",
       "      <td>[Elektro]</td>\n",
       "      <td>NaN</td>\n",
       "      <td>elektro</td>\n",
       "      <td>nicola fasano outwork</td>\n",
       "      <td>NaN</td>\n",
       "      <td>NaN</td>\n",
       "      <td>[Mr Gee]</td>\n",
       "      <td>NaN</td>\n",
       "      <td>NaN</td>\n",
       "    </tr>\n",
       "    <tr>\n",
       "      <th>8126306</th>\n",
       "      <td>Elektro - Nicola Fasano South Beach Radio Mix</td>\n",
       "      <td>[Mr. Gee, Nicola Fasano, Outwork]</td>\n",
       "      <td>SpotifyTrack</td>\n",
       "      <td>[Elektro]</td>\n",
       "      <td>NaN</td>\n",
       "      <td>elektro nicola fasano south beach remix</td>\n",
       "      <td>mr. gee nicola fasano outwork</td>\n",
       "      <td>[Nicola Fasano South Beach]</td>\n",
       "      <td>[Radio]</td>\n",
       "      <td>NaN</td>\n",
       "      <td>NaN</td>\n",
       "      <td>NaN</td>\n",
       "    </tr>\n",
       "    <tr>\n",
       "      <th>1482528</th>\n",
       "      <td>Elektro (Nicola Fasano South Beach Radio Mix) ...</td>\n",
       "      <td>[Mr. Gee, Outwork]</td>\n",
       "      <td>SpotifyTrack</td>\n",
       "      <td>[Elektro]</td>\n",
       "      <td>NaN</td>\n",
       "      <td>elektro nicola fasano south beach nicola fasan...</td>\n",
       "      <td>mr. gee outwork</td>\n",
       "      <td>[Nicola Fasano, Nicola Fasano South Beach]</td>\n",
       "      <td>[Radio]</td>\n",
       "      <td>NaN</td>\n",
       "      <td>NaN</td>\n",
       "      <td>NaN</td>\n",
       "    </tr>\n",
       "  </tbody>\n",
       "</table>\n",
       "</div>"
      ],
      "text/plain": [
       "                                                       name  \\\n",
       "id                                                            \n",
       "72592     Elektro (Nicola Fasano South Beach Radio Mix) ...   \n",
       "10799206                             Elektro - Feat. Mr Gee   \n",
       "8126306       Elektro - Nicola Fasano South Beach Radio Mix   \n",
       "1482528   Elektro (Nicola Fasano South Beach Radio Mix) ...   \n",
       "\n",
       "                                     artist      platform      title mood  \\\n",
       "id                                                                          \n",
       "72592        [Mister Gee, Mr. Gee, Outwork]         Track  [Elektro]  NaN   \n",
       "10799206           [Nicola Fasano, Outwork]  SpotifyTrack  [Elektro]  NaN   \n",
       "8126306   [Mr. Gee, Nicola Fasano, Outwork]  SpotifyTrack  [Elektro]  NaN   \n",
       "1482528                  [Mr. Gee, Outwork]  SpotifyTrack  [Elektro]  NaN   \n",
       "\n",
       "                                                clean_title  \\\n",
       "id                                                            \n",
       "72592     elektro nicola fasano south beach nicola fasan...   \n",
       "10799206                                            elektro   \n",
       "8126306             elektro nicola fasano south beach remix   \n",
       "1482528   elektro nicola fasano south beach nicola fasan...   \n",
       "\n",
       "                           clean_artist  \\\n",
       "id                                        \n",
       "72592        mister gee mr. gee outwork   \n",
       "10799206          nicola fasano outwork   \n",
       "8126306   mr. gee nicola fasano outwork   \n",
       "1482528                 mr. gee outwork   \n",
       "\n",
       "                                             remixer  version featuredArtist  \\\n",
       "id                                                                             \n",
       "72592     [Nicola Fasano, Nicola Fasano South Beach]  [Radio]            NaN   \n",
       "10799206                                         NaN      NaN       [Mr Gee]   \n",
       "8126306                  [Nicola Fasano South Beach]  [Radio]            NaN   \n",
       "1482528   [Nicola Fasano, Nicola Fasano South Beach]  [Radio]            NaN   \n",
       "\n",
       "         subTitle quality  \n",
       "id                         \n",
       "72592         NaN     NaN  \n",
       "10799206      NaN     NaN  \n",
       "8126306       NaN     NaN  \n",
       "1482528       NaN     NaN  "
      ]
     },
     "execution_count": 16,
     "metadata": {},
     "output_type": "execute_result"
    }
   ],
   "source": [
    "tracks.loc[json.loads(test_data.loc[row,\"match_id\"])]"
   ]
  },
  {
   "cell_type": "code",
   "execution_count": 278,
   "metadata": {},
   "outputs": [
    {
     "data": {
      "text/html": [
       "<div>\n",
       "<style scoped>\n",
       "    .dataframe tbody tr th:only-of-type {\n",
       "        vertical-align: middle;\n",
       "    }\n",
       "\n",
       "    .dataframe tbody tr th {\n",
       "        vertical-align: top;\n",
       "    }\n",
       "\n",
       "    .dataframe thead th {\n",
       "        text-align: right;\n",
       "    }\n",
       "</style>\n",
       "<table border=\"1\" class=\"dataframe\">\n",
       "  <thead>\n",
       "    <tr style=\"text-align: right;\">\n",
       "      <th></th>\n",
       "      <th>name</th>\n",
       "      <th>artist</th>\n",
       "      <th>platform</th>\n",
       "      <th>title</th>\n",
       "      <th>mood</th>\n",
       "      <th>clean_title</th>\n",
       "      <th>clean_artist</th>\n",
       "      <th>remixer</th>\n",
       "      <th>version</th>\n",
       "      <th>featuredArtist</th>\n",
       "      <th>subTitle</th>\n",
       "      <th>quality</th>\n",
       "    </tr>\n",
       "    <tr>\n",
       "      <th>id</th>\n",
       "      <th></th>\n",
       "      <th></th>\n",
       "      <th></th>\n",
       "      <th></th>\n",
       "      <th></th>\n",
       "      <th></th>\n",
       "      <th></th>\n",
       "      <th></th>\n",
       "      <th></th>\n",
       "      <th></th>\n",
       "      <th></th>\n",
       "      <th></th>\n",
       "    </tr>\n",
       "  </thead>\n",
       "  <tbody>\n",
       "    <tr>\n",
       "      <th>70447</th>\n",
       "      <td>Tonight</td>\n",
       "      <td>[Deaf'n Dumb Crew, Sébastien Léger]</td>\n",
       "      <td>Track</td>\n",
       "      <td>[Tonight]</td>\n",
       "      <td>NaN</td>\n",
       "      <td>tonight</td>\n",
       "      <td>deaf'n dumb crew sébastien léger</td>\n",
       "      <td>NaN</td>\n",
       "      <td>NaN</td>\n",
       "      <td>NaN</td>\n",
       "      <td>NaN</td>\n",
       "      <td>NaN</td>\n",
       "    </tr>\n",
       "    <tr>\n",
       "      <th>1704648</th>\n",
       "      <td>Tonight</td>\n",
       "      <td>[Sébastien Léger]</td>\n",
       "      <td>SpotifyTrack</td>\n",
       "      <td>[Tonight]</td>\n",
       "      <td>NaN</td>\n",
       "      <td>tonight</td>\n",
       "      <td>sébastien léger</td>\n",
       "      <td>NaN</td>\n",
       "      <td>NaN</td>\n",
       "      <td>NaN</td>\n",
       "      <td>NaN</td>\n",
       "      <td>NaN</td>\n",
       "    </tr>\n",
       "    <tr>\n",
       "      <th>3798201</th>\n",
       "      <td>Tonight</td>\n",
       "      <td>[Sébastien Léger]</td>\n",
       "      <td>SpotifyTrack</td>\n",
       "      <td>[Tonight]</td>\n",
       "      <td>NaN</td>\n",
       "      <td>tonight</td>\n",
       "      <td>sébastien léger</td>\n",
       "      <td>NaN</td>\n",
       "      <td>NaN</td>\n",
       "      <td>NaN</td>\n",
       "      <td>NaN</td>\n",
       "      <td>NaN</td>\n",
       "    </tr>\n",
       "  </tbody>\n",
       "</table>\n",
       "</div>"
      ],
      "text/plain": [
       "            name                               artist      platform  \\\n",
       "id                                                                    \n",
       "70447    Tonight  [Deaf'n Dumb Crew, Sébastien Léger]         Track   \n",
       "1704648  Tonight                    [Sébastien Léger]  SpotifyTrack   \n",
       "3798201  Tonight                    [Sébastien Léger]  SpotifyTrack   \n",
       "\n",
       "             title mood clean_title                      clean_artist remixer  \\\n",
       "id                                                                              \n",
       "70447    [Tonight]  NaN     tonight  deaf'n dumb crew sébastien léger     NaN   \n",
       "1704648  [Tonight]  NaN     tonight                   sébastien léger     NaN   \n",
       "3798201  [Tonight]  NaN     tonight                   sébastien léger     NaN   \n",
       "\n",
       "        version featuredArtist subTitle quality  \n",
       "id                                               \n",
       "70447       NaN            NaN      NaN     NaN  \n",
       "1704648     NaN            NaN      NaN     NaN  \n",
       "3798201     NaN            NaN      NaN     NaN  "
      ]
     },
     "execution_count": 278,
     "metadata": {},
     "output_type": "execute_result"
    }
   ],
   "source": [
    "title_process = 'ratio'\n",
    "artist_process = 'token_set_ratio'\n",
    "\n",
    "clean_title = tracks.loc[row, 'clean_title']\n",
    "clean_artist = tracks.loc[row, 'clean_artist']\n",
    "prediction = fuzzy_match(clean_title, clean_artist, THESHOLD, title_process, artist_process)    \n",
    "prediction = [x for x in prediction if x != row]\n",
    "tracks.loc[prediction]\n"
   ]
  },
  {
   "cell_type": "markdown",
   "metadata": {},
   "source": [
    "The third pipeline was the best as it finished with an f1 score of 95%. This could potentially be improved upon by improving the Name Entity Recognition model."
   ]
  }
 ],
 "metadata": {
  "kernelspec": {
   "display_name": "Python 3.9.13 ('.venv': venv)",
   "language": "python",
   "name": "python3"
  },
  "language_info": {
   "codemirror_mode": {
    "name": "ipython",
    "version": 3
   },
   "file_extension": ".py",
   "mimetype": "text/x-python",
   "name": "python",
   "nbconvert_exporter": "python",
   "pygments_lexer": "ipython3",
   "version": "3.9.13"
  },
  "orig_nbformat": 4,
  "vscode": {
   "interpreter": {
    "hash": "76c45147ad23fe14775e41f6363f5289a6b376aec967e1f7172c0a10e5006253"
   }
  }
 },
 "nbformat": 4,
 "nbformat_minor": 2
}
